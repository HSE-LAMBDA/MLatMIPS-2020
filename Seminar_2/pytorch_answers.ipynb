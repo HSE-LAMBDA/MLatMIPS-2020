{
 "cells": [
  {
   "cell_type": "markdown",
   "metadata": {
    "colab_type": "text",
    "id": "lbIJ2AEnj33_"
   },
   "source": [
    "# Hello, pytorch"
   ]
  },
  {
   "cell_type": "markdown",
   "metadata": {
    "colab_type": "text",
    "id": "tm9CD832ky4o"
   },
   "source": [
    "![img](https://upload.wikimedia.org/wikipedia/commons/9/96/Pytorch_logo.png)\n",
    "\n",
    "\n",
    "> **!!!** If you're running this notebook on Colab, make sure you enable the GPU support by going to `'Edit'->'Notebook settings'` and setting `'Hardware accelerator'` to `'GPU'`."
   ]
  },
  {
   "cell_type": "markdown",
   "metadata": {
    "colab_type": "text",
    "id": "fea1jESIjHPK"
   },
   "source": [
    "[PyTrorch](http://pytorch.org/) and [TensorFlow](https://www.tensorflow.org/) are two of the most commonly used deep learning frameworks. Both of these tools are notable for their ability to compute gradients automatically and do operations on GPU, which can be by orders of magnitude faster than running on CPU. Even though both libraries serve the same purpose, they are quite different in the ways they approach calculations.\n",
    "\n",
    "TensorFlow makes your code live in two \"worlds\" simultaneously:  symbolic graphs and actual tensors. First you declare a symbolic \"recipe\" of how to get from inputs to outputs, then feed it with actual data.\n",
    "Nowdays with TensorFlow 2.0 it is not exactly the case anymore. You can have similar to PyTorch world.\n",
    "\n",
    "In pytorch, there's only one world: all tensors have a numeric value. You can compute outputs on the fly without pre-declaring anything, and the code looks (almost) exactly as in pure numpy. Due to this simplicity, PyTorch is going to be our weapon of choice for this course.\n",
    "\n",
    "\n",
    "We'll start from using the low-level core of PyTorch, and then try out some high-level features."
   ]
  },
  {
   "cell_type": "code",
   "execution_count": null,
   "metadata": {
    "colab": {
     "base_uri": "https://localhost:8080/",
     "height": 36
    },
    "colab_type": "code",
    "id": "tNqZu7dvjHPO",
    "outputId": "286ad25b-e589-4112-e7d1-e94046441678"
   },
   "outputs": [],
   "source": [
    "import numpy as np\n",
    "import matplotlib.pyplot as plt\n",
    "%matplotlib inline\n",
    "import torch\n",
    "print(torch.__version__)"
   ]
  },
  {
   "cell_type": "code",
   "execution_count": null,
   "metadata": {
    "colab": {
     "base_uri": "https://localhost:8080/",
     "height": 559
    },
    "colab_type": "code",
    "id": "FxIJVjXajHPS",
    "outputId": "b0b1bb43-05fd-4ae4-f115-463612069349",
    "scrolled": true
   },
   "outputs": [],
   "source": [
    "# numpy world\n",
    "\n",
    "x = np.arange(16).reshape(4, 4)\n",
    "\n",
    "print(\"X :\\n{}\\n\".format(x))\n",
    "print(\"X.shape : {}\\n\".format(x.shape))\n",
    "print(\"add 5 :\\n{}\\n\".format(x + 5))\n",
    "print(\"X*X^T  :\\n{}\\n\".format(np.dot(x, x.T)))\n",
    "print(\"mean over cols :\\n{}\\n\".format(x.mean(axis=-1)))\n",
    "print(\"cumsum of cols :\\n{}\\n\".format(np.cumsum(x, axis=0)))"
   ]
  },
  {
   "cell_type": "code",
   "execution_count": null,
   "metadata": {
    "colab": {
     "base_uri": "https://localhost:8080/",
     "height": 465
    },
    "colab_type": "code",
    "id": "U4CU3mBTjHPW",
    "outputId": "86669c0d-bfa4-4889-e4ca-92f0f9289c19"
   },
   "outputs": [],
   "source": [
    "# pytorch world\n",
    "x = np.arange(16).reshape(4, 4) # (starting form a numpy array)\n",
    "\n",
    "x = torch.from_numpy(x).type(torch.float) # or torch.arange(0,16).reshape(4,4)\n",
    "#x = x.cuda()\n",
    "#      ^^^ this will move the tensor onto GPU memory\n",
    "\n",
    "print(\"X :\\n{}\".format(x))\n",
    "print(\"X.shape : {}\\n\".format(x.shape))\n",
    "print(\"add 5 :\\n{}\".format(x + 5))\n",
    "print(\"X*X^T  :\\n{}\".format(torch.matmul(x, torch.t(x))))\n",
    "print(\"mean over cols :\\n{}\".format(x.mean(dim=-1)))\n",
    "print(\"cumsum of cols :\\n{}\".format(x.cumsum(dim=0)))\n",
    "print(\"add dimension:\\n{}\".format(x.unsqueeze(0)))"
   ]
  },
  {
   "cell_type": "markdown",
   "metadata": {
    "colab_type": "text",
    "id": "QAOmRYq7ui11"
   },
   "source": [
    "## NumPy and Pytorch"
   ]
  },
  {
   "cell_type": "markdown",
   "metadata": {
    "colab_type": "text",
    "id": "0V4RORsfjHPY"
   },
   "source": [
    "As you can notice, pytorch allows you to hack stuff much in the same way you did with numpy. No graph declaration, no placeholders, no sessions. This means that you can *see the numeric value of any tensor at any moment of time*. Debugging such code can be done by printing tensors or using any debug tool you want (e.g. [gdb](https://wiki.python.org/moin/DebuggingWithGdb)).\n",
    "\n",
    "You may also see a few new method names and a different API. So no, there's no compatibility with numpy [yet](https://github.com/pytorch/pytorch/issues/2228) and yes, you'll have to memorize all the names again. Get excited!\n",
    "\n",
    "![img](http://i0.kym-cdn.com/entries/icons/original/000/017/886/download.jpg)\n",
    "\n",
    "For example, \n",
    "* If something takes a list/tuple of axes in numpy, you can expect it to take *args in pytorch\n",
    " * `x.reshape([1,2,8]) -> x.reshape(1,2,8)`\n",
    "* You should swap _axis_ for _dim_ in operations like mean or cumsum\n",
    " * `x.sum(axis=-1) -> x.sum(dim=-1)`\n",
    "* most mathematical operations are the same, but types and shaping is different\n",
    " * `x.astype('int64') -> x.type(torch.LongTensor)`\n",
    "\n",
    "To help you acclimatize, there's a [table](https://github.com/torch/torch7/wiki/Torch-for-Numpy-users) covering most new things. There's also a neat [documentation page](http://pytorch.org/docs/master/).\n",
    "\n",
    "Finally, if you're stuck with a technical problem, we recommend searching [pytorch forumns](https://discuss.pytorch.org/). Or just googling, which usually works just as efficiently. \n",
    "\n",
    "If you feel like you almost give up, remember two things: **GPU** and **gradients for free**. Besides you can always jump back to numpy with x.numpy()."
   ]
  },
  {
   "cell_type": "markdown",
   "metadata": {
    "colab_type": "text",
    "id": "4RcZjFrcjHPa"
   },
   "source": [
    "### Warmup: trigonometric knotwork\n",
    "_inspired by [this post](https://www.quora.com/What-are-the-most-interesting-equation-plots)_\n",
    "\n",
    "There are some simple mathematical functions with cool plots. For one, consider this:\n",
    "\n",
    "$$ x(t) = t - 1.5 * cos( 15 t) $$\n",
    "$$ y(t) = t - 1.5 * sin( 16 t) $$\n"
   ]
  },
  {
   "cell_type": "code",
   "execution_count": null,
   "metadata": {
    "colab": {
     "base_uri": "https://localhost:8080/",
     "height": 265
    },
    "colab_type": "code",
    "id": "qrekxr8rjHPa",
    "outputId": "97317829-9a71-41fc-9a78-3d85a4e7a4fb"
   },
   "outputs": [],
   "source": [
    "t = torch.linspace(-10, 10, steps = 10000)\n",
    "\n",
    "# compute x(t) and y(t) as defined above\n",
    "x = t - 1.5 * torch.cos(15 * t)\n",
    "y = t - 1.5 * torch.sin(16 * t)\n",
    "\n",
    "plt.plot(x.numpy(), y.numpy());"
   ]
  },
  {
   "cell_type": "code",
   "execution_count": null,
   "metadata": {
    "colab": {},
    "colab_type": "code",
    "id": "fKHJfVhlhWw_"
   },
   "outputs": [],
   "source": [
    "#### SOLUTION! ####\n",
    "\n",
    "t = torch.linspace(-10, 10, steps = 10000)\n",
    "\n",
    "# compute x(t) and y(t) as defined above\n",
    "x = t - 1.5 * torch.cos(15 * t)\n",
    "y = t - 1.5 * torch.sin(16 * t)\n",
    "\n",
    "plt.plot(x.numpy(), y.numpy());"
   ]
  },
  {
   "cell_type": "markdown",
   "metadata": {
    "colab_type": "text",
    "id": "fV5oSb_EjHPh"
   },
   "source": [
    "if you're done early, try adjusting the formula and see how it affects the plot"
   ]
  },
  {
   "cell_type": "markdown",
   "metadata": {
    "colab_type": "text",
    "id": "RjA6kg8PFBiO"
   },
   "source": [
    "# Game of Life"
   ]
  },
  {
   "cell_type": "markdown",
   "metadata": {
    "colab_type": "text",
    "id": "ebG-nGex256t"
   },
   "source": [
    "Now it's time for you to make something more challenging. We'll implement Conway's Game of Life in pure pytorch.\n",
    "\n",
    "While this is still a toy task, implementing game of life this way has one cool benefit: you'll be able to run it on GPU! Indeed, what could be a better use of your gpu than simulating game of life on 1M/1M grids?\n",
    "\n",
    "here's the game of life:\n",
    "You have a 2D grid of cells, where each cell is \"alive\"(1) or \"dead\"(0)\n",
    "Any living cell that has 2 or 3 neighbors survives, else it dies [0,1 or 4+ neighbors]\n",
    "Any cell with exactly 3 neighbors becomes alive (if it was dead)\n",
    "For this task, you are given a reference numpy implementation that you must convert to pytorch. \n",
    "[numpy code inspired by: https://github.com/rougier/numpy-100]\n",
    "\n",
    "Note: You can find convolution in torch.nn.functional.conv2d(Z,filters). Note that it has a different input format.\n",
    "\n",
    "\n",
    "\n",
    "\n"
   ]
  },
  {
   "cell_type": "code",
   "execution_count": null,
   "metadata": {
    "colab": {},
    "colab_type": "code",
    "id": "kDWB2HdZ27yn"
   },
   "outputs": [],
   "source": [
    "from scipy.signal import convolve2d\n",
    "\n",
    "def np_update(Z):\n",
    "    # Count neighbours with convolution\n",
    "    filters = np.array([[1,1,1],\n",
    "                        [1,0,1],\n",
    "                        [1,1,1]])\n",
    "    \n",
    "    N = convolve2d(Z,filters,mode='same')\n",
    "    \n",
    "    # Apply rules\n",
    "    birth = (N==3) & (Z==0)\n",
    "    survive = ((N==2) | (N==3)) & (Z==1)\n",
    "    \n",
    "    Z[:] = birth | survive\n",
    "    return Z"
   ]
  },
  {
   "cell_type": "code",
   "execution_count": null,
   "metadata": {
    "colab": {},
    "colab_type": "code",
    "id": "VR6QPmzo5SET"
   },
   "outputs": [],
   "source": [
    "def torch_update(Z):\n",
    "    \"\"\"\n",
    "    Implement an update function that does to Z exactly the same as np_update.\n",
    "    :param Z: torch.FloatTensor of shape [height,width] containing 0s(dead) an 1s(alive)\n",
    "    :returns: torch.FloatTensor Z after updates.\n",
    "    \n",
    "    You can opt to create new tensor or change Z inplace.\n",
    "    \"\"\"\n",
    "    \n",
    "    #<Your code here!>\n",
    "    \n",
    "    return Z"
   ]
  },
  {
   "cell_type": "code",
   "execution_count": null,
   "metadata": {
    "colab": {},
    "colab_type": "code",
    "id": "gpYwjix73AKW"
   },
   "outputs": [],
   "source": [
    "# SOLUTION\n",
    "def torch_update(Z):\n",
    "    \"\"\"\n",
    "    Implement an update function that does to Z exactly the same as np_update.\n",
    "    :param Z: torch.FloatTensor of shape [height,width] containing 0s(dead) an 1s(alive)\n",
    "    :returns: torch.FloatTensor Z after updates.\n",
    "    \n",
    "    You can opt to create new tensor or change Z inplace.\n",
    "    \"\"\"\n",
    "    filters = torch.Tensor([[1,1,1],\n",
    "                    [1,0,1],\n",
    "                    [1,1,1]]).unsqueeze(0).unsqueeze(0)\n",
    "\n",
    "    N = torch.nn.functional.conv2d(Z.unsqueeze(0).unsqueeze(0), weight=filters, padding=1)\n",
    "\n",
    "    birth = (N==3) & (Z==0)\n",
    "    survive = ((N==2) | (N==3)) & (Z==1)\n",
    "    Z[:] = birth | survive\n",
    "    \n",
    "    return Z"
   ]
  },
  {
   "cell_type": "code",
   "execution_count": null,
   "metadata": {
    "colab": {
     "base_uri": "https://localhost:8080/",
     "height": 36
    },
    "colab_type": "code",
    "id": "abNzdAa93CU7",
    "outputId": "9760a2bd-576e-4b15-e261-6192950fb420"
   },
   "outputs": [],
   "source": [
    "#initial frame\n",
    "Z_numpy = np.random.choice([0,1],p=(0.5,0.5),size=(100,100))\n",
    "Z = torch.from_numpy(Z_numpy).type(torch.FloatTensor)\n",
    "\n",
    "#your debug polygon :)\n",
    "Z_new = torch_update(Z.clone())\n",
    "\n",
    "#tests\n",
    "Z_reference = np_update(Z_numpy.copy())\n",
    "assert np.all(Z_new.numpy() == Z_reference), \"your pytorch implementation doesn't match np_update. Look into Z and np_update(ZZ) to investigate.\"\n",
    "print(\"Well done!\")"
   ]
  },
  {
   "cell_type": "code",
   "execution_count": null,
   "metadata": {
    "colab": {},
    "colab_type": "code",
    "id": "FzC_CblyDf6V"
   },
   "outputs": [],
   "source": [
    "## Animation function\n",
    "import numpy as np\n",
    "import matplotlib.pyplot as plt\n",
    "\n",
    "from matplotlib import animation, rc\n",
    "from IPython.display import HTML\n",
    "\n",
    "# First set up the figure, the axis, and the plot element we want to animate\n",
    "def make_animation(Z):\n",
    "    fig, ax = plt.subplots()\n",
    "    plt.close()\n",
    "\n",
    "    im = ax.imshow(Z, cmap=plt.cm.binary, interpolation='nearest')\n",
    "    im.set_clim(-0.05, 1)  # Make background gray\n",
    "    Z_blank = np.zeros_like(Z.numpy())\n",
    "    # initialization function: plot the background of each frame\n",
    "    def init():\n",
    "        im.set_data(Z_blank)\n",
    "        return (im,)\n",
    "\n",
    "    # animation function. This is called sequentially  \n",
    "    def animate(i):\n",
    "        global Z\n",
    "        im.set_data(Z.numpy())\n",
    "        Z = torch_update(Z)\n",
    "        return (im,)\n",
    "      \n",
    "\n",
    "    anim = animation.FuncAnimation(fig, animate, init_func=init,\n",
    "                                frames=100, interval=100, blit=True)\n",
    "\n",
    "    # Note: below is the part which makes it work on Colab\n",
    "    rc('animation', html='jshtml')\n",
    "    return anim"
   ]
  },
  {
   "cell_type": "code",
   "execution_count": null,
   "metadata": {
    "colab": {
     "base_uri": "https://localhost:8080/",
     "height": 383
    },
    "colab_type": "code",
    "id": "kKJ6RyQqAt_m",
    "outputId": "8edcb3a2-f3de-4128-8e31-080573864a14"
   },
   "outputs": [],
   "source": [
    "Z = np.random.choice([0,1],size=(100,100))\n",
    "Z = torch.from_numpy(Z).type(torch.FloatTensor)\n",
    "make_animation(Z)"
   ]
  },
  {
   "cell_type": "code",
   "execution_count": null,
   "metadata": {
    "colab": {
     "base_uri": "https://localhost:8080/",
     "height": 383
    },
    "colab_type": "code",
    "id": "4h8LekCj3I9Q",
    "outputId": "18f86fef-69cc-4c00-e113-a6b8341e566b"
   },
   "outputs": [],
   "source": [
    "#Some fun setups for your amusement\n",
    "\n",
    "#parallel stripes\n",
    "Z = np.arange(100)%2 + np.zeros([100,100])\n",
    "#with a small imperfection\n",
    "Z[48:52,50]=1\n",
    "\n",
    "Z = torch.from_numpy(Z).type(torch.FloatTensor)\n",
    "\n",
    "make_animation(Z)"
   ]
  },
  {
   "cell_type": "markdown",
   "metadata": {
    "colab_type": "text",
    "id": "_HsquDcmjHPi"
   },
   "source": [
    "```\n",
    "\n",
    "```\n",
    "\n",
    "```\n",
    "\n",
    "```\n",
    "\n",
    "```\n",
    "\n",
    "```\n",
    "\n",
    "```\n",
    "\n",
    "```\n",
    "\n",
    "```\n",
    "\n",
    "```\n",
    "\n",
    "```\n",
    "\n",
    "```\n",
    "\n",
    "```\n",
    "\n",
    "```\n",
    "\n",
    "```\n",
    "\n",
    "```\n",
    "\n",
    "```\n",
    "\n",
    "```\n"
   ]
  },
  {
   "cell_type": "markdown",
   "metadata": {
    "colab_type": "text",
    "id": "H2uMMOF7jHPj"
   },
   "source": [
    "## Automatic gradients\n",
    "\n",
    "Any self-respecting DL framework must do your backprop for you. Torch handles this through `requires_grad` parameter when creating tensors.\n",
    "\n",
    "The general pipeline looks like this:\n",
    "* You create ```a = torch.tensor(data, requires_grad=True)```\n",
    "* You define some differentiable `loss = whatever(a)`\n",
    "* Call `loss.backward()`\n",
    "* Gradients are now available as ```a.grad```\n",
    "\n",
    "**Here's an example:** let's fit a linear regression on Boston house prices"
   ]
  },
  {
   "cell_type": "code",
   "execution_count": null,
   "metadata": {
    "colab": {
     "base_uri": "https://localhost:8080/",
     "height": 265
    },
    "colab_type": "code",
    "id": "FCp_lBj9jHPk",
    "outputId": "e259f07f-15d6-4d61-f4bb-2f3751ab3f2a",
    "scrolled": true
   },
   "outputs": [],
   "source": [
    "from sklearn.datasets import load_boston\n",
    "boston = load_boston()\n",
    "# Let's have a look at the last feature:\n",
    "plt.scatter(boston.data[:, -1], boston.target);"
   ]
  },
  {
   "cell_type": "markdown",
   "metadata": {
    "colab_type": "text",
    "id": "vsCxML8OmX2i"
   },
   "source": [
    "We'll try a linear regression model using this single feature, and we'll use **gradient descent** to optimize the parameters. This is going to be our starting point:"
   ]
  },
  {
   "cell_type": "code",
   "execution_count": null,
   "metadata": {
    "colab": {
     "base_uri": "https://localhost:8080/",
     "height": 36
    },
    "colab_type": "code",
    "id": "XOFb6pCQl-P2",
    "outputId": "bb21c136-f6b8-4d1f-e16f-76264722854b"
   },
   "outputs": [],
   "source": [
    "# Defining the parameters of our model:\n",
    "w = torch.zeros(1, requires_grad=True, dtype=torch.float64)\n",
    "b = torch.zeros(1, requires_grad=True, dtype=torch.float64)\n",
    "#         You want to make sure all tensors have    ^^^\n",
    "#         the same dtype\n",
    "\n",
    "# Converting our data to torch tensors:\n",
    "x = torch.from_numpy(boston.data[:,-1]) / 10\n",
    "y = torch.from_numpy(boston.target)\n",
    "\n",
    "# prediction:\n",
    "y_pred = w * x + b\n",
    "# loss:\n",
    "loss = ((y_pred - y)**2).mean()\n",
    "print(\"Loss is:\", loss)\n",
    "\n",
    "# Compute gradients:\n",
    "loss.backward()"
   ]
  },
  {
   "cell_type": "markdown",
   "metadata": {
    "colab_type": "text",
    "id": "q1Fy8EXAjHPu"
   },
   "source": [
    "The gradients are now stored in `.grad` of a variable."
   ]
  },
  {
   "cell_type": "code",
   "execution_count": null,
   "metadata": {
    "colab": {
     "base_uri": "https://localhost:8080/",
     "height": 55
    },
    "colab_type": "code",
    "id": "NuA8Q3Y3jHPv",
    "outputId": "744b61e9-6023-4db9-a9b4-aa93cad14f64"
   },
   "outputs": [],
   "source": [
    "print(\"dL/dw =\", w.grad)\n",
    "print(\"dL/db =\", b.grad)\n"
   ]
  },
  {
   "cell_type": "markdown",
   "metadata": {
    "colab_type": "text",
    "id": "PMXEd1etjHPz"
   },
   "source": [
    "If you compute gradients from multiple losses, the gradients will add up at variables, therefore you usually want to **zero the gradients** between iteratons."
   ]
  },
  {
   "cell_type": "code",
   "execution_count": null,
   "metadata": {
    "colab": {
     "base_uri": "https://localhost:8080/",
     "height": 369
    },
    "colab_type": "code",
    "id": "TV14F3VejHP0",
    "outputId": "d150846f-9534-4ddc-e5a2-d8eac21063d9"
   },
   "outputs": [],
   "source": [
    "from IPython.display import clear_output\n",
    "\n",
    "# let's keep the history of loss values at \n",
    "# each step\n",
    "losses = []\n",
    "\n",
    "# Gradient descent:\n",
    "for i in range(100):\n",
    "  # Calculate current prediction and loss:\n",
    "  y_pred = w * x  + b\n",
    "  loss = ((y_pred - y)**2).mean()\n",
    "  losses.append(loss.item())\n",
    "  #                   ^^^\n",
    "  # The '.item' call returns the value of this \n",
    "  # tensor as a standard Python number (this only works\n",
    "  # for tensors with one element).\n",
    "  \n",
    "  # Compute the gradients\n",
    "  loss.backward()\n",
    "\n",
    "  with torch.no_grad():\n",
    "    # ^^^ this `with` statement ensures that\n",
    "    #     automatic gradients will not be computed\n",
    "    #     for whatever is written in the current block:\n",
    "    w -= 0.05 * w.grad\n",
    "    b -= 0.05 * b.grad\n",
    "\n",
    "\n",
    "  # manually zero the gradients\n",
    "  w.grad.zero_()\n",
    "  b.grad.zero_()\n",
    "\n",
    "  # the rest of code is just bells and whistles\n",
    "  if (i + 1) % 5 == 0:\n",
    "    clear_output(True)\n",
    "    plt.figure(figsize=(14, 5))\n",
    "    \n",
    "    # We'll draw the data points and fit result on the left subplot\n",
    "    plt.subplot(1, 2, 1)\n",
    "    plt.title(\"data\")\n",
    "    plt.scatter(x.numpy(), y.numpy())\n",
    "    plt.scatter(x.numpy(), y_pred.detach().numpy(),\n",
    "                color='orange', linewidth=5)\n",
    "    # The '.detach()' call is needed here to create a\n",
    "    # copy of 'y_pred' that does not require gradients\n",
    "    # (otherwize it's impossible to get a numpy\n",
    "    # representation).\n",
    "    \n",
    "    # We'll draw the loss (as the function of gradient descent\n",
    "    # step) on the right subplot\n",
    "    plt.subplot(1, 2, 2)\n",
    "    plt.title(\"loss\")\n",
    "    plt.plot(losses)\n",
    "    plt.xlabel('step')\n",
    "    \n",
    "    plt.show()\n",
    "\n",
    "    print(\"loss = \", loss.detach().numpy())"
   ]
  },
  {
   "cell_type": "markdown",
   "metadata": {
    "colab_type": "text",
    "id": "g8k2EmXwjHP6"
   },
   "source": [
    "try implementing and writing some nonlinear regression. You can try quadratic features or some trigonometry, or a simple neural network. The only difference is that now you have more variables and a more complicated `y_pred`. "
   ]
  },
  {
   "cell_type": "code",
   "execution_count": null,
   "metadata": {
    "colab": {},
    "colab_type": "code",
    "id": "DMbCIQ-sH647"
   },
   "outputs": [],
   "source": [
    "from IPython.display import clear_output\n",
    "\n",
    "# let's keep the history of loss values at \n",
    "# each step\n",
    "losses = []\n",
    "\n",
    "powers = range(-2,3)\n",
    "w = <YOUR CODE>\n",
    "\n",
    "# Gradient descent:\n",
    "for i in range(100):\n",
    "  y_pred = <YOUR CODE>\n",
    "  loss = ((y_pred - y)**2).mean()\n",
    "  losses.append(loss.item())\n",
    "  loss.backward()\n",
    "\n",
    "  with torch.no_grad():\n",
    "    # ^^^ this `with` statement ensures that\n",
    "    #     automatic gradients will not be computed\n",
    "    #     for whatever is written in the current block:\n",
    "    w -= 0.05 * w.grad\n",
    "    b -= 0.05 * b.grad\n",
    "\n",
    "\n",
    "  # manually zero the gradients\n",
    "  w.grad.zero_()\n",
    "  b.grad.zero_()\n",
    "\n",
    "  # the rest of code is just bells and whistles\n",
    "  if (i + 1) % 5 == 0:\n",
    "    clear_output(True)\n",
    "    plt.figure(figsize=(14, 5))\n",
    "    \n",
    "    # We'll draw the data points and fit result on the left subplot\n",
    "    plt.subplot(1, 2, 1)\n",
    "    plt.title(\"data\")\n",
    "    plt.scatter(x.numpy(), y.numpy())\n",
    "    plt.scatter(x.numpy(), y_pred.detach().numpy(),\n",
    "                color='orange', linewidth=5)\n",
    "    # The '.detach()' call is needed here to create a\n",
    "    # copy of 'y_pred' that does not require gradients\n",
    "    # (otherwize it's impossible to get a numpy\n",
    "    # representation).\n",
    "    \n",
    "    # We'll draw the loss (as the function of gradient descent\n",
    "    # step) on the right subplot\n",
    "    plt.subplot(1, 2, 2)\n",
    "    plt.title(\"loss\")\n",
    "    plt.plot(losses)\n",
    "    plt.xlabel('step')\n",
    "    \n",
    "    plt.show()\n",
    "\n",
    "    print(\"loss = \", loss.detach().numpy())"
   ]
  },
  {
   "cell_type": "code",
   "execution_count": null,
   "metadata": {
    "colab": {
     "base_uri": "https://localhost:8080/",
     "height": 369
    },
    "colab_type": "code",
    "id": "_K-NeHMF19Dq",
    "outputId": "83d71d41-4f47-4d81-b08e-00d706e0d903"
   },
   "outputs": [],
   "source": [
    "# SOLUTION\n",
    "from IPython.display import clear_output\n",
    "\n",
    "# let's keep the history of loss values at \n",
    "# each step\n",
    "losses = []\n",
    "\n",
    "powers = range(-2,3)\n",
    "w = torch.zeros(len(powers), requires_grad=True, dtype=torch.float64)\n",
    "\n",
    "# Gradient descent:\n",
    "for i in range(100):\n",
    "  # Calculate current prediction and loss:\n",
    "  #y_pred = w * x  + b\n",
    "  y_pred = (torch.stack([\n",
    "              x**p for p in powers\n",
    "          ], dim=1) * w.view(1, -1)).sum(dim=1)\n",
    "  loss = ((y_pred - y)**2).mean()\n",
    "  losses.append(loss.item())\n",
    "  #                   ^^^\n",
    "  # The '.item' call returns the value of this \n",
    "  # tensor as a standard Python number (this only works\n",
    "  # for tensors with one element).\n",
    "  \n",
    "  # Compute the gradients\n",
    "  loss.backward()\n",
    "\n",
    "  with torch.no_grad():\n",
    "    # ^^^ this `with` statement ensures that\n",
    "    #     automatic gradients will not be computed\n",
    "    #     for whatever is written in the current block:\n",
    "    w -= 0.05 * w.grad\n",
    "    b -= 0.05 * b.grad\n",
    "\n",
    "\n",
    "  # manually zero the gradients\n",
    "  w.grad.zero_()\n",
    "  b.grad.zero_()\n",
    "\n",
    "  # the rest of code is just bells and whistles\n",
    "  if (i + 1) % 5 == 0:\n",
    "    clear_output(True)\n",
    "    plt.figure(figsize=(14, 5))\n",
    "    \n",
    "    # We'll draw the data points and fit result on the left subplot\n",
    "    plt.subplot(1, 2, 1)\n",
    "    plt.title(\"data\")\n",
    "    plt.scatter(x.numpy(), y.numpy())\n",
    "    plt.scatter(x.numpy(), y_pred.detach().numpy(),\n",
    "                color='orange', linewidth=5)\n",
    "    # The '.detach()' call is needed here to create a\n",
    "    # copy of 'y_pred' that does not require gradients\n",
    "    # (otherwize it's impossible to get a numpy\n",
    "    # representation).\n",
    "    \n",
    "    # We'll draw the loss (as the function of gradient descent\n",
    "    # step) on the right subplot\n",
    "    plt.subplot(1, 2, 2)\n",
    "    plt.title(\"loss\")\n",
    "    plt.plot(losses)\n",
    "    plt.xlabel('step')\n",
    "    \n",
    "    plt.show()\n",
    "\n",
    "    print(\"loss = \", loss.detach().numpy())"
   ]
  },
  {
   "cell_type": "markdown",
   "metadata": {
    "colab_type": "text",
    "id": "QjrsEoVl6gm5"
   },
   "source": [
    "## High-level PyTorch"
   ]
  },
  {
   "cell_type": "markdown",
   "metadata": {
    "colab_type": "text",
    "id": "xOqcKJuLjD5I"
   },
   "source": [
    "We're now going to teach the computer to identify some clothes. Exciting, isn't it? The dataset we'll use for that is called [Fashion-MNIST](https://github.com/zalandoresearch/fashion-mnist). Here's an excerpt from their website:\n",
    "\n",
    "> *Fashion-MNIST is a dataset of Zalando's article images—consisting of a training set of 60,000 examples and a test set of 10,000 examples. Each example is a 28x28 grayscale image, associated with a label from 10 classes. We intend Fashion-MNIST to serve as a direct drop-in replacement for the original MNIST dataset for benchmarking machine learning algorithms. It shares the same image size and structure of training and testing splits.*\n",
    "\n",
    "So, if you're familiar with the original [MNIST](http://yann.lecun.com/exdb/mnist/) dataset (handwritten digits), this is kinda the same, but about clothes."
   ]
  },
  {
   "cell_type": "code",
   "execution_count": null,
   "metadata": {
    "colab": {
     "base_uri": "https://localhost:8080/",
     "height": 36
    },
    "colab_type": "code",
    "id": "xj2cI3PtXPCh",
    "outputId": "009f110d-29ab-41ac-c1b9-d3664cd126d8"
   },
   "outputs": [],
   "source": [
    "!rm -r FashionMNIST"
   ]
  },
  {
   "cell_type": "markdown",
   "metadata": {
    "colab_type": "text",
    "id": "iegU7EdXkzD4"
   },
   "source": [
    "PyTorch has a module dedicated to retrieving datasets, so let's use it:"
   ]
  },
  {
   "cell_type": "code",
   "execution_count": null,
   "metadata": {
    "colab": {},
    "colab_type": "code",
    "id": "6usBsSGi6k6u"
   },
   "outputs": [],
   "source": [
    "from torchvision.datasets import FashionMNIST"
   ]
  },
  {
   "cell_type": "code",
   "execution_count": null,
   "metadata": {
    "colab": {
     "base_uri": "https://localhost:8080/",
     "height": 576,
     "referenced_widgets": [
      "ebeb8181f9c54c389cbffe5e2b759588",
      "ea47dac181cc476c8a1ce9aeec66f16b",
      "e831a877d814407da7fa981bd6a688f9",
      "f3c314e9420e4954a7e1c2129591eace",
      "8761e1df4524420688b537e2fbf2d567",
      "ee35d04ea6414a3aba62eece7700c195",
      "a105799b12eb4f8e922659948523f759",
      "863b3eb3d2d6457480cb04d3ae3ff6dd",
      "4d6ee27e656841e99bb6642197a90323",
      "173c127f759f47be8656d1a3ccb14b62",
      "ce05cd6d42754c55b980a66a0ee57933",
      "a99521be93904813bf84a1efc4b0205e",
      "ddcf03869d604543b3c7eaf397357e57",
      "d5500d5dcd194a2c947db5efa18bb0ef",
      "c72cd3475b734628ae292e24c7dd8f7e",
      "e243292f197f477a95aeb086ef33e290",
      "99fccb3cb0934a76aa07646ebf2f7937",
      "cc1eab0a554e45c89ec757fa6f1684f9",
      "bd5fa16bc1574b1ab7926fa66766a6ba",
      "716b4178f87f47a4af5858d0c7d700fb",
      "93b375c3320f4fc2848098c88528704a",
      "69795a37eab44e1eb33540198a0041b7",
      "e92bbc955ced4826a8d759f25eacaea0",
      "d2a9cd3a34ab43fd85bb867ff6ada8fd",
      "2330154321f34a5a8ef29af0affd6d66",
      "e4395d04489f4e73b2ab39ddd9aba534",
      "591293781d9e48939f01a1c4996b7826",
      "c5329cf540454e8189db1b7f6dc8db64",
      "2cdff5025b7949229047c69544ce4daa",
      "072f5f7861d04da0acfe8751bfbaa52b",
      "7e2657d6107b4e798209cae38b702ed9",
      "56fca5b234634fec98197527317c9623"
     ]
    },
    "colab_type": "code",
    "id": "r49OsLdH6yRo",
    "outputId": "b1ca8d0c-c702-4a69-f7ee-8aca708fce21"
   },
   "outputs": [],
   "source": [
    "# Getting the train and test parts of the dataset\n",
    "data_train = FashionMNIST(\"FashionMNIST/\",\n",
    "                          download=True,\n",
    "                          train=True)\n",
    "\n",
    "data_test = FashionMNIST(\"FashionMNIST/\",\n",
    "                          download=True,\n",
    "                          train=False)\n",
    "\n",
    "# In fact, it's already stored as torch tensor, but we'll need\n",
    "# to work with the numpy representation, so let's do the convertion:\n",
    "X_train = data_train.train_data.numpy()\n",
    "y_train = data_train.train_labels.numpy()\n",
    "\n",
    "X_test = data_test.test_data.numpy()\n",
    "y_test = data_test.test_labels.numpy()\n"
   ]
  },
  {
   "cell_type": "markdown",
   "metadata": {
    "colab_type": "text",
    "id": "p-VvVjxj8IEk"
   },
   "source": [
    "The datasets consists of images belonging to one out of 10 classes:\n",
    "\n",
    "| Label | Description | | Label | Description |\n",
    "| ---       \n",
    "| 0        | T-shirt/top   || 5        | Sandal         |\n",
    "| 1        | Trouser        || 6        | Shirt             |\n",
    "| 2        | Pullover       || 7        | Sneaker       |\n",
    "| 3        | Dress           || 8        | Bag              |\n",
    "| 4        | Coat             || 9        | Ankle boot  |\n",
    "\n",
    "\n",
    "\n",
    "\n"
   ]
  },
  {
   "cell_type": "markdown",
   "metadata": {
    "colab_type": "text",
    "id": "yNk7BuyQnHyF"
   },
   "source": [
    "Let's check out the shapes of our arrays:"
   ]
  },
  {
   "cell_type": "code",
   "execution_count": null,
   "metadata": {
    "colab": {},
    "colab_type": "code",
    "id": "fWq9TWKVCPeE"
   },
   "outputs": [],
   "source": [
    "#print(X_train.shape, y_train.shape)\n",
    "print(X_test.shape, y_test .shape)"
   ]
  },
  {
   "cell_type": "markdown",
   "metadata": {
    "colab_type": "text",
    "id": "zb9rebjbnNLd"
   },
   "source": [
    "And now we are going to plot images from specific categories"
   ]
  },
  {
   "cell_type": "code",
   "execution_count": null,
   "metadata": {
    "colab": {},
    "colab_type": "code",
    "id": "AHvXHn7D7PmY"
   },
   "outputs": [],
   "source": [
    "categories = [\n",
    "    X_train[y_train == i]\n",
    "    for i in range(10)\n",
    "]\n",
    "\n",
    "ten_of_each = np.array([c[:10] for c in categories])\n",
    "ten_of_each = np.transpose(ten_of_each, (0, 2, 1, 3)).reshape(280, 280)\n",
    "\n",
    "plt.figure(figsize=(10, 10))\n",
    "plt.imshow(ten_of_each, cmap='Greys')\n",
    "plt.axis('off');"
   ]
  },
  {
   "cell_type": "markdown",
   "metadata": {
    "colab_type": "text",
    "id": "w0vyO5SSpCF7"
   },
   "source": [
    "Ok, so let's start writing our first deep learning model! For that we'll need 3 things:\n",
    "  - a **loss** function that takes predicted class scores and true labels, and outputs a measure of how wrong we are in our predictions\n",
    "  - a **function** that converts the input features to class scores (this will be represented by a neural network)\n",
    "  - an **optimization algorithm** that'll vary the parameters of our model to minimize the loss"
   ]
  },
  {
   "cell_type": "markdown",
   "metadata": {
    "colab_type": "text",
    "id": "AOWxl3nAALEY"
   },
   "source": [
    "### Loss function"
   ]
  },
  {
   "cell_type": "markdown",
   "metadata": {
    "colab_type": "text",
    "id": "NWvwI3snrz2z"
   },
   "source": [
    "Since we are facing a classification problem, **cross-entropy** (aka negative log likelihood) is a good choice for a loss function:\n",
    "$$\\mathscr{L} = -\\frac{1}{|D|}\\sum_{c\\in C,\\,i\\in D}p^{\\text{true}}_{c,i}\\cdot log\\,\\hat{p}^{\\text{predicted}}_{c,i},$$\n",
    "where $C$ is the set of all classes and $D$ is the set of all objects."
   ]
  },
  {
   "cell_type": "markdown",
   "metadata": {
    "colab_type": "text",
    "id": "uqVsCmNDCyD6"
   },
   "source": [
    "<font color='red'>Question:</font> *What is $p^{\\text{true}}_{c,i}$ equal to for a given object $i$ of class $c'_i$?*\n",
    "<font color='red'>Question (2):</font> *What will $\\mathscr{L}$ look like for a binary classification case?*"
   ]
  },
  {
   "cell_type": "markdown",
   "metadata": {
    "colab_type": "text",
    "id": "5cJm2yA4YDU1"
   },
   "source": [
    "Since our loss function takes in *probabilities*, we have to make sure they add up to 1 for any given object. In general case, the output of a neural net can be anything, but there's a commonly used activation function that automatically normalizes the outputs to add up to 1:\n",
    "\n",
    "$$f(x_i) = \\frac{e^{x_i}}{\\sum_j e^{x_j}}$$\n",
    "\n",
    "This is the *softmax function*, and we'll use it as the activation for the very last layer."
   ]
  },
  {
   "cell_type": "markdown",
   "metadata": {
    "colab_type": "text",
    "id": "N2beWS7gbIND"
   },
   "source": [
    "Let's start by trying to implement this function (in torch):"
   ]
  },
  {
   "cell_type": "code",
   "execution_count": null,
   "metadata": {
    "colab": {},
    "colab_type": "code",
    "id": "Y6uYTdlybGim"
   },
   "outputs": [],
   "source": [
    "def softmax(x):\n",
    "  return <YOUR CODE HERE>"
   ]
  },
  {
   "cell_type": "code",
   "execution_count": null,
   "metadata": {
    "colab": {},
    "colab_type": "code",
    "id": "Y9C-cwiTniWQ"
   },
   "outputs": [],
   "source": [
    "#### SOLUTION! ####\n",
    "\n",
    "def softmax(x):\n",
    "  x = x - x.max()\n",
    "  return torch.exp(x) / torch.exp(x).sum()"
   ]
  },
  {
   "cell_type": "markdown",
   "metadata": {
    "colab_type": "text",
    "id": "hO9p5Mr-Si_X"
   },
   "source": [
    "Once you're done, run the cell below to check whether your function passes automatic checks."
   ]
  },
  {
   "cell_type": "code",
   "execution_count": null,
   "metadata": {
    "colab": {},
    "colab_type": "code",
    "id": "OQGL9r8Kbwny"
   },
   "outputs": [],
   "source": [
    "# Creating some simple input\n",
    "dummy_input_1 = torch.tensor([0.5, -10., 4., 1.333])\n",
    "dummy_input_2 = 100 * dummy_input_1\n",
    "\n",
    "# Computing the output with your implementation\n",
    "dummy_result_1 = softmax(dummy_input_1)\n",
    "dummy_result_2 = softmax(dummy_input_2)\n",
    "\n",
    "# Checking the output type\n",
    "assert isinstance(dummy_result_1, torch.Tensor), \\\n",
    "       \"Your function should return a torch tensor\"\n",
    "\n",
    "# Converting everything to numpy\n",
    "dummy_result_1 = dummy_result_1.numpy()\n",
    "dummy_result_2 = dummy_result_2.numpy()\n",
    "\n",
    "# Correct outputs (for the automatic checks):\n",
    "dummy_correct_result_1 = np.array([2.7460692e-02,\n",
    "                                   7.5616998e-07,\n",
    "                                   9.0937322e-01,\n",
    "                                   6.3165329e-02])\n",
    "dummy_correct_result_2 = np.array([0., 0., 1., 0.])\n",
    "\n",
    "# Doing the checks:\n",
    "assert np.allclose(\n",
    "            dummy_result_1,\n",
    "            dummy_correct_result_1\n",
    "       ), \"Test failed!\\n\" \\\n",
    "       \"Looks like something is wrong \" \\\n",
    "       \"with your softmax implementation.\\nCorrect result is:\\n{}\\n\" \\\n",
    "       \"You got:\\n{}\".format(dummy_correct_result_1, dummy_result_1)\n",
    "\n",
    "assert np.isfinite(dummy_result_2).all(), \\\n",
    "       \"Test failed!\\n\" \\\n",
    "       \"Looks like your implementation is unstable to large inputs.\\n\" \\\n",
    "       \"You got:\\n{}\\n\" \\\n",
    "       \"Can you think of a way of regularizing it?\".format(dummy_result_2)\n",
    "\n",
    "assert np.allclose(\n",
    "            dummy_result_2,\n",
    "            dummy_correct_result_2\n",
    "       ), \"Test failed!\\n\" \\\n",
    "       \"Looks like something is wrong \" \\\n",
    "       \"with your softmax implementation.\\nCorrect result is:\\n{}\\n\" \\\n",
    "       \"You got:\\n{}\".format(dummy_correct_result_2, dummy_result_2)\n",
    "\n",
    "# Printout for the case when all is good.\n",
    "print(\"Tests passed!\")"
   ]
  },
  {
   "cell_type": "markdown",
   "metadata": {
    "colab_type": "text",
    "id": "TmRLk-L0UKdq"
   },
   "source": [
    "```\n",
    "```\n",
    "```\n",
    "```\n",
    "```\n",
    "```\n",
    "```\n",
    "```\n"
   ]
  },
  {
   "cell_type": "markdown",
   "metadata": {
    "colab_type": "text",
    "id": "F187gI18UOq3"
   },
   "source": [
    "Were you able to regularize your softmax implementation?\n",
    "\n",
    "In fact, since we are combining crossentropy and softmax, we'll always take a `log` of the softmax output (see formulas above). This means one more level of numerical regularisation of the final expression can be done. This has already been implemented in the high-level PyTorch `nn` module within the `torch.nn.CrossEntropyLoss` class.\n",
    "\n",
    "Let's use it to create our loss function as follows:"
   ]
  },
  {
   "cell_type": "code",
   "execution_count": null,
   "metadata": {
    "colab": {},
    "colab_type": "code",
    "id": "AlX5RdtoXDps"
   },
   "outputs": [],
   "source": [
    "# Defining the loss function:\n",
    "loss_function = torch.nn.CrossEntropyLoss()"
   ]
  },
  {
   "cell_type": "markdown",
   "metadata": {
    "colab_type": "text",
    "id": "9fem8Z1kZLbA"
   },
   "source": [
    "The `loss_function` now takes two arguments as its input: score predictions (output of the last layer, without activation) and the correct labels:\n",
    "\n",
    "$$\\mathscr{L}(x, c) = -\\frac{1}{|D|}\\sum_{i\\in D}log\\,\\frac{e^{x_i^{c_i}}}{\\sum_{j\\in C}e^{x_i^j}},$$\n",
    "\n",
    "where $x_i^j$ is the score for the $i$-th object to belong the $j$-th class, $c_i$ is the true class for $i$-th object; $C$ is the set of all classes and $D$ is the set of all objects\n",
    "\n",
    "Below is an example of how `loss_function` can now be used.\n",
    "\n",
    "**Task:** try changing the values of `dummy_x` to make the resulting loss even smaller."
   ]
  },
  {
   "cell_type": "code",
   "execution_count": null,
   "metadata": {
    "colab": {},
    "colab_type": "code",
    "id": "H9Cps7YwVnTc"
   },
   "outputs": [],
   "source": [
    "# Example usage (play around with this code)\n",
    "\n",
    "# Think of dummy_x as of output of the last layer of our neural net.\n",
    "# For example, dummy_x below corresponds to a 3-class classification of\n",
    "# 5 objects:\n",
    "dummy_x = torch.tensor(\n",
    "    [[99., -5., -10.], # here we're almost sure it's class 0\n",
    "     [-3.,  8.,   9.], # here we think it's either class 1 or 2, etc\n",
    "     [-3., 15., -10.],\n",
    "     [ 4.,  5.,  -3.],\n",
    "     [-3., 15., -10.]]\n",
    ")\n",
    "# And these are the answers (vector of class ids):\n",
    "dummy_y = torch.tensor([0, 2, 1, 1, 1])\n",
    "\n",
    "print(loss_function(dummy_x, dummy_y))"
   ]
  },
  {
   "cell_type": "markdown",
   "metadata": {
    "colab_type": "text",
    "id": "XNf0CX-fAZfH"
   },
   "source": [
    "### Neural net"
   ]
  },
  {
   "cell_type": "markdown",
   "metadata": {
    "colab_type": "text",
    "id": "-WFbVrgutsuf"
   },
   "source": [
    "Now that we have a loss function, it's time to build our network. Again, there's a bunch of ready to use classes in the `torch.nn` module.\n",
    "\n",
    "Let's start from something really simple - a model without any hidden layers. For such a case we should only have 1 input layer, 1 output layer and a set of linear connections between them:\n",
    "\n",
    "$$\\text{output}_i = \\sum_j w_{ij}\\cdot\\text{input}_j + b_i$$\n",
    "\n",
    "**Question:** how many parameters does this model have?\n",
    "\n",
    "We'll use the `torch.nn.Linear` class to define these connections:"
   ]
  },
  {
   "cell_type": "code",
   "execution_count": null,
   "metadata": {
    "colab": {},
    "colab_type": "code",
    "id": "wgvwEXm4vWSX"
   },
   "outputs": [],
   "source": [
    "input_size = 28 * 28 # number of pixels per image\n",
    "output_size = 10 # number of classes\n",
    "model = torch.nn.Linear(in_features=input_size,\n",
    "                        out_features=output_size)"
   ]
  },
  {
   "cell_type": "markdown",
   "metadata": {
    "colab_type": "text",
    "id": "kwGSePvGyxkj"
   },
   "source": [
    "Now `model` is a function that connects the two layers. Here's an example of how it works:"
   ]
  },
  {
   "cell_type": "code",
   "execution_count": null,
   "metadata": {
    "colab": {},
    "colab_type": "code",
    "id": "bb8tip2XyUOz"
   },
   "outputs": [],
   "source": [
    "# You can think of dummy_input as of 5 images with all pixels black:\n",
    "dummy_input = torch.tensor(np.zeros(shape=(5, 28 * 28), dtype=np.float32))\n",
    "# Then our output is going to be the 10 class scores for each of the images:\n",
    "dummy_output = model(dummy_input)\n",
    "\n",
    "# Let's have a look at their shape:\n",
    "print(dummy_input.shape)\n",
    "print(dummy_output.shape)"
   ]
  },
  {
   "cell_type": "markdown",
   "metadata": {
    "colab_type": "text",
    "id": "pJucbQGHzoQH"
   },
   "source": [
    "One can iterate through the `model`'s parameters with it's `.parameters()` method. Try using it to calculate the number of (scalar) parameters:"
   ]
  },
  {
   "cell_type": "code",
   "execution_count": null,
   "metadata": {
    "colab": {},
    "colab_type": "code",
    "id": "tI266aNXzk-O"
   },
   "outputs": [],
   "source": [
    "# calculate the number of (scalar) parameters:\n",
    "n_parameters = 0\n",
    "for parameter in model.parameters():\n",
    "  <YOUR CODE HERE>\n",
    "\n",
    "print(n_parameters)"
   ]
  },
  {
   "cell_type": "code",
   "execution_count": null,
   "metadata": {
    "colab": {},
    "colab_type": "code",
    "id": "rMRzL12s0iHn"
   },
   "outputs": [],
   "source": [
    "#### SOLUTION! ####\n",
    "\n",
    "# calculate the number of (scalar) parameters:\n",
    "n_parameters = 0\n",
    "for parameter in model.parameters():\n",
    "  n_parameters += parameter.reshape(-1).shape[0]\n",
    "\n",
    "print(n_parameters)"
   ]
  },
  {
   "cell_type": "markdown",
   "metadata": {
    "colab_type": "text",
    "id": "gSPYLKzJAgzO"
   },
   "source": [
    "### Input preprocessing"
   ]
  },
  {
   "cell_type": "markdown",
   "metadata": {
    "colab_type": "text",
    "id": "Vl-0UxIJxTkn"
   },
   "source": [
    "So far our data is held as numpy arrays of unsigned byte type, i.e. it lies within a range from 0 to 255. Also, the shape of our input is 3-dimensional (num_images, height, width), while our `model` takes 2-dimensional \"arrays of 1-dimensional images\" (num_images, height * width)."
   ]
  },
  {
   "cell_type": "code",
   "execution_count": null,
   "metadata": {
    "colab": {},
    "colab_type": "code",
    "id": "B-e6X4v6wlJM"
   },
   "outputs": [],
   "source": [
    "print(X_train.shape)\n",
    "print(X_train.dtype)\n",
    "print(X_train.min(), X_train.max())"
   ]
  },
  {
   "cell_type": "markdown",
   "metadata": {
    "colab_type": "text",
    "id": "XF2nptPHx3-g"
   },
   "source": [
    "We have to convert that to `torch` tensors and reshape the input. Also, it's a good idea to normalize your image data to lie within a $[0, 1]$ interval. Let's write a function that does all these things:"
   ]
  },
  {
   "cell_type": "code",
   "execution_count": null,
   "metadata": {
    "colab": {},
    "colab_type": "code",
    "id": "TMiuBEH42Hso"
   },
   "outputs": [],
   "source": [
    "# Write a function to convert X and y to torch tensors while\n",
    "# rescaling X to fit into [0, 1] interval and reshaping it properly\n",
    "\n",
    "# Hint: make sure your input tensor dtype is same as the\n",
    "# parameters of the model (should be torch.float)\n",
    "\n",
    "def preprocess_data(X, y):\n",
    "  X_preprocessed = <YOUR CODE HERE>\n",
    "  y_preprocessed = <YOUR CODE HERE>\n",
    "  return X_preprocessed, y_preprocessed"
   ]
  },
  {
   "cell_type": "code",
   "execution_count": null,
   "metadata": {
    "colab": {},
    "colab_type": "code",
    "id": "zhWcXNTy260C"
   },
   "outputs": [],
   "source": [
    "#### SOLUTION! ####\n",
    "\n",
    "def preprocess_data(X, y):\n",
    "  X_preprocessed = torch.tensor(X / 255.,\n",
    "                                dtype=torch.float).reshape(-1, 28 * 28)\n",
    "  y_preprocessed = torch.tensor(y)\n",
    "  return X_preprocessed, y_preprocessed"
   ]
  },
  {
   "cell_type": "markdown",
   "metadata": {
    "colab_type": "text",
    "id": "ZIUhQLYN_4mL"
   },
   "source": [
    "The simplest way to check this function is to use it to calculate loss:"
   ]
  },
  {
   "cell_type": "code",
   "execution_count": null,
   "metadata": {
    "colab": {},
    "colab_type": "code",
    "id": "VgR5FZus3CRW"
   },
   "outputs": [],
   "source": [
    "processed_X, processed_y = preprocess_data(X_train[:100], y_train[:100])\n",
    "\n",
    "assert processed_X.min().item() >= 0 and \\\n",
    "       processed_X.max().item() <= 1, \"Make sure your input is >= 0 and <= 1\"\n",
    "\n",
    "class_scores = model(processed_X)\n",
    "print(\"Loss is:\", loss_function(class_scores, processed_y).item())"
   ]
  },
  {
   "cell_type": "markdown",
   "metadata": {
    "colab_type": "text",
    "id": "u2nybq16Ak7a"
   },
   "source": [
    "### Optimizer"
   ]
  },
  {
   "cell_type": "markdown",
   "metadata": {
    "colab_type": "text",
    "id": "x4HrUU_rA_M1"
   },
   "source": [
    "Now, to train our network we need an optimization algorithm. \n",
    "\n",
    "Actually, we already implemented one ourselves: stochastic gradient descent (from the *Automatic gradients* section of this notebook). Back then we manually updated our model's parameters by adding a `-learning_rate * param.grad` at each step.\n",
    "\n",
    "There are however other extensions of stochastic gradient descent that compute the per-step updates using more complicated functions of gradients (some take into account the gradients' values at earlier steps).\n",
    "\n",
    "As always, many of those are already implemented in torch. In this example we are going to use `torch.optim.Adam`."
   ]
  },
  {
   "cell_type": "code",
   "execution_count": null,
   "metadata": {
    "colab": {},
    "colab_type": "code",
    "id": "RtlkvLG6F3XK"
   },
   "outputs": [],
   "source": [
    "learning_rate = 0.005\n",
    "# When creating an istance of the optimizer you have to tell\n",
    "# it which parameters you want to optimize. We are doing so by\n",
    "# passing model.parameters() to it:\n",
    "optimizer = torch.optim.Adam(model.parameters(), lr=learning_rate)"
   ]
  },
  {
   "cell_type": "markdown",
   "metadata": {
    "colab_type": "text",
    "id": "jrBk5DCOGul-"
   },
   "source": [
    "Once an optimizer is created we can use it by first calculating the loss on some batch of data, computing the gradients and then simply calling to `optimizer.step()`. Then repeat with the next batch and so on.\n",
    "\n",
    "Here's an example of what should happen at a single step:"
   ]
  },
  {
   "cell_type": "code",
   "execution_count": null,
   "metadata": {
    "colab": {},
    "colab_type": "code",
    "id": "X224ZlG-GAq1"
   },
   "outputs": [],
   "source": [
    "# Get a batch of data (we'll get first 100 images at first)\n",
    "batch_X, batch_y = preprocess_data(X_train[:100], y_train[:100])\n",
    "\n",
    "# Compute the loss:\n",
    "loss = loss_function(model(batch_X), batch_y)\n",
    "\n",
    "print(\"Loss value before the optimization step:\", loss.item())\n",
    "\n",
    "# Zero the gradients\n",
    "model.zero_grad()\n",
    "\n",
    "# Compute new gradients\n",
    "loss.backward()\n",
    "\n",
    "# Do the optimization step:\n",
    "optimizer.step()\n",
    "\n",
    "print(\"Loss value after the optimization step:\",\n",
    "      loss_function(model(batch_X), batch_y).item())"
   ]
  },
  {
   "cell_type": "markdown",
   "metadata": {
    "colab_type": "text",
    "id": "NL1rGhZUxshQ"
   },
   "source": [
    "### Some utilities"
   ]
  },
  {
   "cell_type": "markdown",
   "metadata": {
    "colab_type": "text",
    "id": "0J4oPwJYkSYG"
   },
   "source": [
    "Ideally we would like to loop through all of our train data. One such loop is called an 'epoch'. We'd also like the data to be shuffled at each epoch.\n",
    "\n",
    "Let's write a function that gives us batches of data and which we'll call at the start of each epoch:"
   ]
  },
  {
   "cell_type": "code",
   "execution_count": null,
   "metadata": {
    "colab": {},
    "colab_type": "code",
    "id": "FKlNWpZ5kOQX"
   },
   "outputs": [],
   "source": [
    "# Batch generator\n",
    "# (here's a very brief description of what python generators are:\n",
    "# https://stackoverflow.com/a/231855/3801744)\n",
    "def get_batches(X, y, batch_size, shuffle=False):\n",
    "  if shuffle:\n",
    "    shuffle_ids = np.random.permutation(len(X))\n",
    "    X = X[shuffle_ids].copy()\n",
    "    y = y[shuffle_ids].copy()\n",
    "  for i_picture in range(0, len(X), batch_size):\n",
    "    # Get batch and preprocess it:\n",
    "    batch_X = X[i_picture:i_picture + batch_size]\n",
    "    batch_y = y[i_picture:i_picture + batch_size]\n",
    "    \n",
    "    # 'return' the batch (see the link above to\n",
    "    # better understand what 'yield' does)\n",
    "    yield preprocess_data(batch_X, batch_y)"
   ]
  },
  {
   "cell_type": "markdown",
   "metadata": {
    "colab_type": "text",
    "id": "zDLRDuFVrzX9"
   },
   "source": [
    "We'll add one more utility to keep track of loss values and plot them at each epoch:"
   ]
  },
  {
   "cell_type": "code",
   "execution_count": null,
   "metadata": {
    "colab": {},
    "colab_type": "code",
    "id": "P6XVWw6on2A_"
   },
   "outputs": [],
   "source": [
    "from IPython.display import clear_output\n",
    "\n",
    "class Logger:\n",
    "  def __init__(self):\n",
    "    self.train_loss_batch = []\n",
    "    self.train_loss_epoch = []\n",
    "    self.test_loss_batch = []\n",
    "    self.test_loss_epoch = []\n",
    "    self.train_batches_per_epoch = 0\n",
    "    self.test_batches_per_epoch = 0\n",
    "    self.epoch_counter = 0\n",
    "\n",
    "  def fill_train(self, loss):\n",
    "    self.train_loss_batch.append(loss)\n",
    "    self.train_batches_per_epoch += 1\n",
    "\n",
    "  def fill_test(self, loss):\n",
    "    self.test_loss_batch.append(loss)\n",
    "    self.test_batches_per_epoch += 1\n",
    "\n",
    "  def finish_epoch(self):\n",
    "    self.train_loss_epoch.append(np.mean(\n",
    "        self.train_loss_batch[-self.train_batches_per_epoch:]\n",
    "    ))\n",
    "    self.test_loss_epoch.append(np.mean(\n",
    "        self.test_loss_batch[-self.test_batches_per_epoch:]\n",
    "    ))\n",
    "    self.train_batches_per_epoch = 0\n",
    "    self.test_batches_per_epoch = 0\n",
    "    \n",
    "    clear_output()\n",
    "  \n",
    "    print(\"epoch #{} \\t train_loss: {:.8} \\t test_loss: {:.8}\".format(\n",
    "              self.epoch_counter,\n",
    "              self.train_loss_epoch[-1],\n",
    "              self.test_loss_epoch [-1]\n",
    "          ))\n",
    "    \n",
    "    self.epoch_counter += 1\n",
    "\n",
    "    plt.figure(figsize=(11, 5))\n",
    "\n",
    "    plt.subplot(1, 2, 1)\n",
    "    plt.plot(self.train_loss_batch, label='train loss')\n",
    "    plt.xlabel('# batch iteration')\n",
    "    plt.ylabel('loss')\n",
    "    plt.legend()\n",
    "\n",
    "    plt.subplot(1, 2, 2)\n",
    "    plt.plot(self.train_loss_epoch, label='average train loss')\n",
    "    plt.plot(self.test_loss_epoch , label='average test loss' )\n",
    "    plt.legend()\n",
    "    plt.xlabel('# epoch')\n",
    "    plt.ylabel('loss')\n",
    "    plt.show();"
   ]
  },
  {
   "cell_type": "markdown",
   "metadata": {
    "colab_type": "text",
    "id": "x_2R-RM6Am3C"
   },
   "source": [
    "### Putting it all together"
   ]
  },
  {
   "cell_type": "markdown",
   "metadata": {
    "colab_type": "text",
    "id": "SCNSaIcwmEKU"
   },
   "source": [
    "Here's the setting up part, copy-pasted from previous cells:"
   ]
  },
  {
   "cell_type": "code",
   "execution_count": null,
   "metadata": {
    "colab": {},
    "colab_type": "code",
    "id": "Qv6R9kqbl5Of"
   },
   "outputs": [],
   "source": [
    "# Defining the loss function:\n",
    "loss_function = torch.nn.CrossEntropyLoss()\n",
    "\n",
    "# Defining the model\n",
    "input_size = 28 * 28 # number of pixels per image\n",
    "output_size = 10 # number of classes\n",
    "model = torch.nn.Linear(in_features=input_size,\n",
    "                        out_features=output_size)\n",
    "\n",
    "# Setting up the optimizer\n",
    "learning_rate = 0.005\n",
    "optimizer = torch.optim.Adam(model.parameters(), lr=learning_rate)"
   ]
  },
  {
   "cell_type": "markdown",
   "metadata": {
    "colab_type": "text",
    "id": "2XvdiR4-m8DH"
   },
   "source": [
    "Now it's your turn to code the learning process:"
   ]
  },
  {
   "cell_type": "code",
   "execution_count": null,
   "metadata": {
    "colab": {},
    "colab_type": "code",
    "id": "4U3YMWEUvL6T"
   },
   "outputs": [],
   "source": [
    "n_epochs = 30\n",
    "batch_size=100\n",
    "\n",
    "logger = Logger()\n",
    "\n",
    "for i_epoch in range(n_epochs):\n",
    "  for batch_X, batch_y in <YOUR CODE>:\n",
    "\n",
    "    # Compute the loss, zero the gradients, and make an optimization step\n",
    "    <YOUR CODE HERE>\n",
    "\n",
    "    logger.fill_train(loss.item())\n",
    "\n",
    "  for batch_X, batch_y in <YOUR CODE>:\n",
    "\n",
    "    # Compute the loss\n",
    "    <YOUR CODE>\n",
    "\n",
    "    logger.fill_test(loss.item())\n",
    "\n",
    "  logger.finish_epoch()"
   ]
  },
  {
   "cell_type": "code",
   "execution_count": null,
   "metadata": {
    "colab": {},
    "colab_type": "code",
    "id": "dnPTUv_wnGq-"
   },
   "outputs": [],
   "source": [
    "#### SOLUTION! ####\n",
    "\n",
    "n_epochs = 30\n",
    "batch_size=100\n",
    "\n",
    "logger = Logger()\n",
    "\n",
    "for i_epoch in range(n_epochs):\n",
    "  for batch_X, batch_y in get_batches(X_train, y_train,\n",
    "                                      batch_size=batch_size,\n",
    "                                      shuffle=True):\n",
    "    loss = loss_function(model(batch_X), batch_y)\n",
    "    \n",
    "    model.zero_grad()\n",
    "    loss.backward()\n",
    "    optimizer.step()\n",
    "    \n",
    "    logger.fill_train(loss.item())\n",
    "  \n",
    "  for batch_X, batch_y in get_batches(X_test, y_test,\n",
    "                                      batch_size=batch_size):\n",
    "    loss = loss_function(model(batch_X), batch_y)\n",
    "    logger.fill_test(loss.item())\n",
    "    \n",
    "  logger.finish_epoch()"
   ]
  },
  {
   "cell_type": "markdown",
   "metadata": {
    "colab_type": "text",
    "id": "QmRh1KUNv6LC"
   },
   "source": [
    "Now that we've trained our model, let's evaluate the accuracy of the predictions. Here's a function we can use to compute the predictions on the test set:"
   ]
  },
  {
   "cell_type": "code",
   "execution_count": null,
   "metadata": {
    "colab": {},
    "colab_type": "code",
    "id": "qSEGq892e9qZ"
   },
   "outputs": [],
   "source": [
    "def get_test_predictions(model, batch_size=100):\n",
    "  predictions_test = np.concatenate([\n",
    "    model(batch_X).to('cpu').detach().numpy()\n",
    "    for batch_X, batch_y in get_batches(X_test, y_test, batch_size)\n",
    "  ], axis=0)\n",
    "  return np.argmax(predictions_test, axis=1)\n",
    "\n",
    "from sklearn.metrics import accuracy_score"
   ]
  },
  {
   "cell_type": "markdown",
   "metadata": {
    "colab_type": "text",
    "id": "KOVlfwsQyqw5"
   },
   "source": [
    "Use it to calculate the accuracy score here. How much did you get?"
   ]
  },
  {
   "cell_type": "code",
   "execution_count": null,
   "metadata": {
    "colab": {},
    "colab_type": "code",
    "id": "iZDCk6tGy_Ae"
   },
   "outputs": [],
   "source": [
    "# Compute and print out the test accuracy of your model\n",
    "<YOUR CODE HERE>"
   ]
  },
  {
   "cell_type": "code",
   "execution_count": null,
   "metadata": {
    "colab": {},
    "colab_type": "code",
    "id": "tCv7jQTlw8oC"
   },
   "outputs": [],
   "source": [
    "#### SOLUTION! ####\n",
    "print(accuracy_score(y_test, get_test_predictions(model)))"
   ]
  },
  {
   "cell_type": "markdown",
   "metadata": {
    "colab_type": "text",
    "id": "SZoCgsSoPWVZ"
   },
   "source": [
    "Ok, so what we did so far is just a simple logistic regression model. Let's add a hidden layer to turn it into a 'real' neural net. Modify the code above.\n",
    "\n",
    "You can stack layers by using `torch.nn.Sequential` class:\n",
    "\n",
    "```\n",
    "model = torch.nn.Sequential(\n",
    "  torch.nn.Linear(...),\n",
    "  torch.nn.ELU(),\n",
    "  torch.nn.Linear(...),\n",
    ")\n",
    "```\n",
    "\n",
    "In this example we've put an activation layer `torch.nn.ELU` between the two linear ones. What will happen if we don't do that?\n",
    "\n",
    "If your model starts to overfit, try adding a `torch.nn.Dropout` layer after the hidden layer. Dropout layers behave differently in training and evaluating modes, so you have specify it like this:\n",
    "\n",
    "```\n",
    "model.train() # set to training mode\n",
    "# ...\n",
    "# (do the training)\n",
    "model.eval() # set to evaluating mode\n",
    "# ...\n",
    "# (perform evaluation)\n",
    "```"
   ]
  },
  {
   "cell_type": "code",
   "execution_count": null,
   "metadata": {
    "colab": {},
    "colab_type": "code",
    "id": "sWtu43DUNFjR"
   },
   "outputs": [],
   "source": [
    "loss_function = torch.nn.CrossEntropyLoss()\n",
    "\n",
    "# Defining the model\n",
    "input_size = 28 * 28 # number of pixels per image\n",
    "output_size = 10 # number of classes\n",
    "\n",
    "\n",
    "n_hidden = <YOUR NUMBER>\n",
    "model = <YOUR NET>\n",
    "\n",
    "# Setting up the optimizer\n",
    "learning_rate = <YOUR NUMBER>\n",
    "optimizer = <YOUR CODE>\n",
    "\n",
    "\n",
    "n_epochs = 30\n",
    "batch_size=100\n",
    "\n",
    "logger = Logger()\n",
    "\n",
    "\n",
    "# This part is as above, just copy your previous solution to make it work\n",
    "for i_epoch in range(n_epochs):\n",
    "  for batch_X, batch_y in <YOUR CODE>:\n",
    "\n",
    "    # Compute the loss, zero the gradients, and make an optimization step\n",
    "    <YOUR CODE HERE>\n",
    "\n",
    "    logger.fill_train(loss.item())\n",
    "\n",
    "  for batch_X, batch_y in <YOUR CODE>:\n",
    "\n",
    "    # Compute the loss\n",
    "    <YOUR CODE>\n",
    "\n",
    "    logger.fill_test(loss.item())\n",
    "\n",
    "  logger.finish_epoch()"
   ]
  },
  {
   "cell_type": "code",
   "execution_count": null,
   "metadata": {
    "colab": {},
    "colab_type": "code",
    "id": "A9m6vTKjRHx9"
   },
   "outputs": [],
   "source": [
    "#### SOLUTION! ####\n",
    "\n",
    "# Defining the loss function:\n",
    "loss_function = torch.nn.CrossEntropyLoss()\n",
    "\n",
    "# Defining the model\n",
    "input_size = 28 * 28 # number of pixels per image\n",
    "output_size = 10 # number of classes\n",
    "n_hidden = 100\n",
    "model = torch.nn.Sequential(\n",
    "    torch.nn.Linear(in_features=input_size,\n",
    "                    out_features=n_hidden),\n",
    "    torch.nn.ELU(),\n",
    "    torch.nn.Dropout(p=0.2),\n",
    "    torch.nn.Linear(in_features=n_hidden,\n",
    "                    out_features=output_size),\n",
    ")\n",
    "\n",
    "# Setting up the optimizer\n",
    "learning_rate = 0.005\n",
    "optimizer = torch.optim.Adam(model.parameters(), lr=learning_rate)\n",
    "\n",
    "\n",
    "n_epochs = 30\n",
    "batch_size=100\n",
    "\n",
    "logger = Logger()\n",
    "\n",
    "for i_epoch in range(n_epochs):\n",
    "  model.train() # set the training mode. This is important for the Dropout\n",
    "  for batch_X, batch_y in get_batches(X_train, y_train,\n",
    "                                      batch_size=batch_size,\n",
    "                                      shuffle=True):\n",
    "    loss = loss_function(model(batch_X), batch_y)\n",
    "    \n",
    "    model.zero_grad()\n",
    "    loss.backward()\n",
    "    optimizer.step()\n",
    "    \n",
    "    logger.fill_train(loss.item())\n",
    "  \n",
    "  model.eval() # set the evaluating mode. This is important for the Dropout\n",
    "  for batch_X, batch_y in get_batches(X_test, y_test,\n",
    "                                      batch_size=batch_size):\n",
    "    loss = loss_function(model(batch_X), batch_y)\n",
    "    logger.fill_test(loss.item())\n",
    "    \n",
    "  logger.finish_epoch()"
   ]
  },
  {
   "cell_type": "code",
   "execution_count": null,
   "metadata": {
    "colab": {},
    "colab_type": "code",
    "id": "ClKuHnUHRzcU"
   },
   "outputs": [],
   "source": [
    "print(accuracy_score(y_test, get_test_predictions(model)))"
   ]
  },
  {
   "cell_type": "markdown",
   "metadata": {
    "colab_type": "text",
    "id": "8DKUx1NhPKle"
   },
   "source": [
    "```\n",
    "```\n",
    "```\n",
    "```\n",
    "```\n",
    "```\n",
    "```\n",
    "```\n"
   ]
  },
  {
   "cell_type": "code",
   "execution_count": null,
   "metadata": {
    "colab": {},
    "colab_type": "code",
    "id": "bFaIQRGwtvPS"
   },
   "outputs": [],
   "source": []
  }
 ],
 "metadata": {
  "accelerator": "GPU",
  "colab": {
   "collapsed_sections": [],
   "name": "pytorch_answers.ipynb",
   "provenance": []
  },
  "kernelspec": {
   "display_name": "Python 3",
   "language": "python",
   "name": "python3"
  },
  "language_info": {
   "codemirror_mode": {
    "name": "ipython",
    "version": 3
   },
   "file_extension": ".py",
   "mimetype": "text/x-python",
   "name": "python",
   "nbconvert_exporter": "python",
   "pygments_lexer": "ipython3",
   "version": "3.5.2"
  },
  "widgets": {
   "application/vnd.jupyter.widget-state+json": {
    "072f5f7861d04da0acfe8751bfbaa52b": {
     "model_module": "@jupyter-widgets/base",
     "model_name": "LayoutModel",
     "state": {
      "_model_module": "@jupyter-widgets/base",
      "_model_module_version": "1.2.0",
      "_model_name": "LayoutModel",
      "_view_count": null,
      "_view_module": "@jupyter-widgets/base",
      "_view_module_version": "1.2.0",
      "_view_name": "LayoutView",
      "align_content": null,
      "align_items": null,
      "align_self": null,
      "border": null,
      "bottom": null,
      "display": null,
      "flex": null,
      "flex_flow": null,
      "grid_area": null,
      "grid_auto_columns": null,
      "grid_auto_flow": null,
      "grid_auto_rows": null,
      "grid_column": null,
      "grid_gap": null,
      "grid_row": null,
      "grid_template_areas": null,
      "grid_template_columns": null,
      "grid_template_rows": null,
      "height": null,
      "justify_content": null,
      "justify_items": null,
      "left": null,
      "margin": null,
      "max_height": null,
      "max_width": null,
      "min_height": null,
      "min_width": null,
      "object_fit": null,
      "object_position": null,
      "order": null,
      "overflow": null,
      "overflow_x": null,
      "overflow_y": null,
      "padding": null,
      "right": null,
      "top": null,
      "visibility": null,
      "width": null
     }
    },
    "173c127f759f47be8656d1a3ccb14b62": {
     "model_module": "@jupyter-widgets/base",
     "model_name": "LayoutModel",
     "state": {
      "_model_module": "@jupyter-widgets/base",
      "_model_module_version": "1.2.0",
      "_model_name": "LayoutModel",
      "_view_count": null,
      "_view_module": "@jupyter-widgets/base",
      "_view_module_version": "1.2.0",
      "_view_name": "LayoutView",
      "align_content": null,
      "align_items": null,
      "align_self": null,
      "border": null,
      "bottom": null,
      "display": null,
      "flex": null,
      "flex_flow": null,
      "grid_area": null,
      "grid_auto_columns": null,
      "grid_auto_flow": null,
      "grid_auto_rows": null,
      "grid_column": null,
      "grid_gap": null,
      "grid_row": null,
      "grid_template_areas": null,
      "grid_template_columns": null,
      "grid_template_rows": null,
      "height": null,
      "justify_content": null,
      "justify_items": null,
      "left": null,
      "margin": null,
      "max_height": null,
      "max_width": null,
      "min_height": null,
      "min_width": null,
      "object_fit": null,
      "object_position": null,
      "order": null,
      "overflow": null,
      "overflow_x": null,
      "overflow_y": null,
      "padding": null,
      "right": null,
      "top": null,
      "visibility": null,
      "width": null
     }
    },
    "2330154321f34a5a8ef29af0affd6d66": {
     "model_module": "@jupyter-widgets/controls",
     "model_name": "HBoxModel",
     "state": {
      "_dom_classes": [],
      "_model_module": "@jupyter-widgets/controls",
      "_model_module_version": "1.5.0",
      "_model_name": "HBoxModel",
      "_view_count": null,
      "_view_module": "@jupyter-widgets/controls",
      "_view_module_version": "1.5.0",
      "_view_name": "HBoxView",
      "box_style": "",
      "children": [
       "IPY_MODEL_591293781d9e48939f01a1c4996b7826",
       "IPY_MODEL_c5329cf540454e8189db1b7f6dc8db64"
      ],
      "layout": "IPY_MODEL_e4395d04489f4e73b2ab39ddd9aba534"
     }
    },
    "2cdff5025b7949229047c69544ce4daa": {
     "model_module": "@jupyter-widgets/controls",
     "model_name": "ProgressStyleModel",
     "state": {
      "_model_module": "@jupyter-widgets/controls",
      "_model_module_version": "1.5.0",
      "_model_name": "ProgressStyleModel",
      "_view_count": null,
      "_view_module": "@jupyter-widgets/base",
      "_view_module_version": "1.2.0",
      "_view_name": "StyleView",
      "bar_color": null,
      "description_width": ""
     }
    },
    "4d6ee27e656841e99bb6642197a90323": {
     "model_module": "@jupyter-widgets/controls",
     "model_name": "HBoxModel",
     "state": {
      "_dom_classes": [],
      "_model_module": "@jupyter-widgets/controls",
      "_model_module_version": "1.5.0",
      "_model_name": "HBoxModel",
      "_view_count": null,
      "_view_module": "@jupyter-widgets/controls",
      "_view_module_version": "1.5.0",
      "_view_name": "HBoxView",
      "box_style": "",
      "children": [
       "IPY_MODEL_ce05cd6d42754c55b980a66a0ee57933",
       "IPY_MODEL_a99521be93904813bf84a1efc4b0205e"
      ],
      "layout": "IPY_MODEL_173c127f759f47be8656d1a3ccb14b62"
     }
    },
    "56fca5b234634fec98197527317c9623": {
     "model_module": "@jupyter-widgets/base",
     "model_name": "LayoutModel",
     "state": {
      "_model_module": "@jupyter-widgets/base",
      "_model_module_version": "1.2.0",
      "_model_name": "LayoutModel",
      "_view_count": null,
      "_view_module": "@jupyter-widgets/base",
      "_view_module_version": "1.2.0",
      "_view_name": "LayoutView",
      "align_content": null,
      "align_items": null,
      "align_self": null,
      "border": null,
      "bottom": null,
      "display": null,
      "flex": null,
      "flex_flow": null,
      "grid_area": null,
      "grid_auto_columns": null,
      "grid_auto_flow": null,
      "grid_auto_rows": null,
      "grid_column": null,
      "grid_gap": null,
      "grid_row": null,
      "grid_template_areas": null,
      "grid_template_columns": null,
      "grid_template_rows": null,
      "height": null,
      "justify_content": null,
      "justify_items": null,
      "left": null,
      "margin": null,
      "max_height": null,
      "max_width": null,
      "min_height": null,
      "min_width": null,
      "object_fit": null,
      "object_position": null,
      "order": null,
      "overflow": null,
      "overflow_x": null,
      "overflow_y": null,
      "padding": null,
      "right": null,
      "top": null,
      "visibility": null,
      "width": null
     }
    },
    "591293781d9e48939f01a1c4996b7826": {
     "model_module": "@jupyter-widgets/controls",
     "model_name": "IntProgressModel",
     "state": {
      "_dom_classes": [],
      "_model_module": "@jupyter-widgets/controls",
      "_model_module_version": "1.5.0",
      "_model_name": "IntProgressModel",
      "_view_count": null,
      "_view_module": "@jupyter-widgets/controls",
      "_view_module_version": "1.5.0",
      "_view_name": "ProgressView",
      "bar_style": "success",
      "description": "",
      "description_tooltip": null,
      "layout": "IPY_MODEL_072f5f7861d04da0acfe8751bfbaa52b",
      "max": 1,
      "min": 0,
      "orientation": "horizontal",
      "style": "IPY_MODEL_2cdff5025b7949229047c69544ce4daa",
      "value": 1
     }
    },
    "69795a37eab44e1eb33540198a0041b7": {
     "model_module": "@jupyter-widgets/base",
     "model_name": "LayoutModel",
     "state": {
      "_model_module": "@jupyter-widgets/base",
      "_model_module_version": "1.2.0",
      "_model_name": "LayoutModel",
      "_view_count": null,
      "_view_module": "@jupyter-widgets/base",
      "_view_module_version": "1.2.0",
      "_view_name": "LayoutView",
      "align_content": null,
      "align_items": null,
      "align_self": null,
      "border": null,
      "bottom": null,
      "display": null,
      "flex": null,
      "flex_flow": null,
      "grid_area": null,
      "grid_auto_columns": null,
      "grid_auto_flow": null,
      "grid_auto_rows": null,
      "grid_column": null,
      "grid_gap": null,
      "grid_row": null,
      "grid_template_areas": null,
      "grid_template_columns": null,
      "grid_template_rows": null,
      "height": null,
      "justify_content": null,
      "justify_items": null,
      "left": null,
      "margin": null,
      "max_height": null,
      "max_width": null,
      "min_height": null,
      "min_width": null,
      "object_fit": null,
      "object_position": null,
      "order": null,
      "overflow": null,
      "overflow_x": null,
      "overflow_y": null,
      "padding": null,
      "right": null,
      "top": null,
      "visibility": null,
      "width": null
     }
    },
    "716b4178f87f47a4af5858d0c7d700fb": {
     "model_module": "@jupyter-widgets/controls",
     "model_name": "HTMLModel",
     "state": {
      "_dom_classes": [],
      "_model_module": "@jupyter-widgets/controls",
      "_model_module_version": "1.5.0",
      "_model_name": "HTMLModel",
      "_view_count": null,
      "_view_module": "@jupyter-widgets/controls",
      "_view_module_version": "1.5.0",
      "_view_name": "HTMLView",
      "description": "",
      "description_tooltip": null,
      "layout": "IPY_MODEL_d2a9cd3a34ab43fd85bb867ff6ada8fd",
      "placeholder": "​",
      "style": "IPY_MODEL_e92bbc955ced4826a8d759f25eacaea0",
      "value": "4423680it [00:00, 24542443.02it/s]"
     }
    },
    "7e2657d6107b4e798209cae38b702ed9": {
     "model_module": "@jupyter-widgets/controls",
     "model_name": "DescriptionStyleModel",
     "state": {
      "_model_module": "@jupyter-widgets/controls",
      "_model_module_version": "1.5.0",
      "_model_name": "DescriptionStyleModel",
      "_view_count": null,
      "_view_module": "@jupyter-widgets/base",
      "_view_module_version": "1.2.0",
      "_view_name": "StyleView",
      "description_width": ""
     }
    },
    "863b3eb3d2d6457480cb04d3ae3ff6dd": {
     "model_module": "@jupyter-widgets/base",
     "model_name": "LayoutModel",
     "state": {
      "_model_module": "@jupyter-widgets/base",
      "_model_module_version": "1.2.0",
      "_model_name": "LayoutModel",
      "_view_count": null,
      "_view_module": "@jupyter-widgets/base",
      "_view_module_version": "1.2.0",
      "_view_name": "LayoutView",
      "align_content": null,
      "align_items": null,
      "align_self": null,
      "border": null,
      "bottom": null,
      "display": null,
      "flex": null,
      "flex_flow": null,
      "grid_area": null,
      "grid_auto_columns": null,
      "grid_auto_flow": null,
      "grid_auto_rows": null,
      "grid_column": null,
      "grid_gap": null,
      "grid_row": null,
      "grid_template_areas": null,
      "grid_template_columns": null,
      "grid_template_rows": null,
      "height": null,
      "justify_content": null,
      "justify_items": null,
      "left": null,
      "margin": null,
      "max_height": null,
      "max_width": null,
      "min_height": null,
      "min_width": null,
      "object_fit": null,
      "object_position": null,
      "order": null,
      "overflow": null,
      "overflow_x": null,
      "overflow_y": null,
      "padding": null,
      "right": null,
      "top": null,
      "visibility": null,
      "width": null
     }
    },
    "8761e1df4524420688b537e2fbf2d567": {
     "model_module": "@jupyter-widgets/controls",
     "model_name": "ProgressStyleModel",
     "state": {
      "_model_module": "@jupyter-widgets/controls",
      "_model_module_version": "1.5.0",
      "_model_name": "ProgressStyleModel",
      "_view_count": null,
      "_view_module": "@jupyter-widgets/base",
      "_view_module_version": "1.2.0",
      "_view_name": "StyleView",
      "bar_color": null,
      "description_width": ""
     }
    },
    "93b375c3320f4fc2848098c88528704a": {
     "model_module": "@jupyter-widgets/controls",
     "model_name": "ProgressStyleModel",
     "state": {
      "_model_module": "@jupyter-widgets/controls",
      "_model_module_version": "1.5.0",
      "_model_name": "ProgressStyleModel",
      "_view_count": null,
      "_view_module": "@jupyter-widgets/base",
      "_view_module_version": "1.2.0",
      "_view_name": "StyleView",
      "bar_color": null,
      "description_width": ""
     }
    },
    "99fccb3cb0934a76aa07646ebf2f7937": {
     "model_module": "@jupyter-widgets/controls",
     "model_name": "HBoxModel",
     "state": {
      "_dom_classes": [],
      "_model_module": "@jupyter-widgets/controls",
      "_model_module_version": "1.5.0",
      "_model_name": "HBoxModel",
      "_view_count": null,
      "_view_module": "@jupyter-widgets/controls",
      "_view_module_version": "1.5.0",
      "_view_name": "HBoxView",
      "box_style": "",
      "children": [
       "IPY_MODEL_bd5fa16bc1574b1ab7926fa66766a6ba",
       "IPY_MODEL_716b4178f87f47a4af5858d0c7d700fb"
      ],
      "layout": "IPY_MODEL_cc1eab0a554e45c89ec757fa6f1684f9"
     }
    },
    "a105799b12eb4f8e922659948523f759": {
     "model_module": "@jupyter-widgets/controls",
     "model_name": "DescriptionStyleModel",
     "state": {
      "_model_module": "@jupyter-widgets/controls",
      "_model_module_version": "1.5.0",
      "_model_name": "DescriptionStyleModel",
      "_view_count": null,
      "_view_module": "@jupyter-widgets/base",
      "_view_module_version": "1.2.0",
      "_view_name": "StyleView",
      "description_width": ""
     }
    },
    "a99521be93904813bf84a1efc4b0205e": {
     "model_module": "@jupyter-widgets/controls",
     "model_name": "HTMLModel",
     "state": {
      "_dom_classes": [],
      "_model_module": "@jupyter-widgets/controls",
      "_model_module_version": "1.5.0",
      "_model_name": "HTMLModel",
      "_view_count": null,
      "_view_module": "@jupyter-widgets/controls",
      "_view_module_version": "1.5.0",
      "_view_name": "HTMLView",
      "description": "",
      "description_tooltip": null,
      "layout": "IPY_MODEL_e243292f197f477a95aeb086ef33e290",
      "placeholder": "​",
      "style": "IPY_MODEL_c72cd3475b734628ae292e24c7dd8f7e",
      "value": "32768it [00:00, 297671.18it/s]"
     }
    },
    "bd5fa16bc1574b1ab7926fa66766a6ba": {
     "model_module": "@jupyter-widgets/controls",
     "model_name": "IntProgressModel",
     "state": {
      "_dom_classes": [],
      "_model_module": "@jupyter-widgets/controls",
      "_model_module_version": "1.5.0",
      "_model_name": "IntProgressModel",
      "_view_count": null,
      "_view_module": "@jupyter-widgets/controls",
      "_view_module_version": "1.5.0",
      "_view_name": "ProgressView",
      "bar_style": "success",
      "description": "",
      "description_tooltip": null,
      "layout": "IPY_MODEL_69795a37eab44e1eb33540198a0041b7",
      "max": 1,
      "min": 0,
      "orientation": "horizontal",
      "style": "IPY_MODEL_93b375c3320f4fc2848098c88528704a",
      "value": 1
     }
    },
    "c5329cf540454e8189db1b7f6dc8db64": {
     "model_module": "@jupyter-widgets/controls",
     "model_name": "HTMLModel",
     "state": {
      "_dom_classes": [],
      "_model_module": "@jupyter-widgets/controls",
      "_model_module_version": "1.5.0",
      "_model_name": "HTMLModel",
      "_view_count": null,
      "_view_module": "@jupyter-widgets/controls",
      "_view_module_version": "1.5.0",
      "_view_name": "HTMLView",
      "description": "",
      "description_tooltip": null,
      "layout": "IPY_MODEL_56fca5b234634fec98197527317c9623",
      "placeholder": "​",
      "style": "IPY_MODEL_7e2657d6107b4e798209cae38b702ed9",
      "value": "8192it [00:00, 97986.47it/s]"
     }
    },
    "c72cd3475b734628ae292e24c7dd8f7e": {
     "model_module": "@jupyter-widgets/controls",
     "model_name": "DescriptionStyleModel",
     "state": {
      "_model_module": "@jupyter-widgets/controls",
      "_model_module_version": "1.5.0",
      "_model_name": "DescriptionStyleModel",
      "_view_count": null,
      "_view_module": "@jupyter-widgets/base",
      "_view_module_version": "1.2.0",
      "_view_name": "StyleView",
      "description_width": ""
     }
    },
    "cc1eab0a554e45c89ec757fa6f1684f9": {
     "model_module": "@jupyter-widgets/base",
     "model_name": "LayoutModel",
     "state": {
      "_model_module": "@jupyter-widgets/base",
      "_model_module_version": "1.2.0",
      "_model_name": "LayoutModel",
      "_view_count": null,
      "_view_module": "@jupyter-widgets/base",
      "_view_module_version": "1.2.0",
      "_view_name": "LayoutView",
      "align_content": null,
      "align_items": null,
      "align_self": null,
      "border": null,
      "bottom": null,
      "display": null,
      "flex": null,
      "flex_flow": null,
      "grid_area": null,
      "grid_auto_columns": null,
      "grid_auto_flow": null,
      "grid_auto_rows": null,
      "grid_column": null,
      "grid_gap": null,
      "grid_row": null,
      "grid_template_areas": null,
      "grid_template_columns": null,
      "grid_template_rows": null,
      "height": null,
      "justify_content": null,
      "justify_items": null,
      "left": null,
      "margin": null,
      "max_height": null,
      "max_width": null,
      "min_height": null,
      "min_width": null,
      "object_fit": null,
      "object_position": null,
      "order": null,
      "overflow": null,
      "overflow_x": null,
      "overflow_y": null,
      "padding": null,
      "right": null,
      "top": null,
      "visibility": null,
      "width": null
     }
    },
    "ce05cd6d42754c55b980a66a0ee57933": {
     "model_module": "@jupyter-widgets/controls",
     "model_name": "IntProgressModel",
     "state": {
      "_dom_classes": [],
      "_model_module": "@jupyter-widgets/controls",
      "_model_module_version": "1.5.0",
      "_model_name": "IntProgressModel",
      "_view_count": null,
      "_view_module": "@jupyter-widgets/controls",
      "_view_module_version": "1.5.0",
      "_view_name": "ProgressView",
      "bar_style": "success",
      "description": "",
      "description_tooltip": null,
      "layout": "IPY_MODEL_d5500d5dcd194a2c947db5efa18bb0ef",
      "max": 1,
      "min": 0,
      "orientation": "horizontal",
      "style": "IPY_MODEL_ddcf03869d604543b3c7eaf397357e57",
      "value": 1
     }
    },
    "d2a9cd3a34ab43fd85bb867ff6ada8fd": {
     "model_module": "@jupyter-widgets/base",
     "model_name": "LayoutModel",
     "state": {
      "_model_module": "@jupyter-widgets/base",
      "_model_module_version": "1.2.0",
      "_model_name": "LayoutModel",
      "_view_count": null,
      "_view_module": "@jupyter-widgets/base",
      "_view_module_version": "1.2.0",
      "_view_name": "LayoutView",
      "align_content": null,
      "align_items": null,
      "align_self": null,
      "border": null,
      "bottom": null,
      "display": null,
      "flex": null,
      "flex_flow": null,
      "grid_area": null,
      "grid_auto_columns": null,
      "grid_auto_flow": null,
      "grid_auto_rows": null,
      "grid_column": null,
      "grid_gap": null,
      "grid_row": null,
      "grid_template_areas": null,
      "grid_template_columns": null,
      "grid_template_rows": null,
      "height": null,
      "justify_content": null,
      "justify_items": null,
      "left": null,
      "margin": null,
      "max_height": null,
      "max_width": null,
      "min_height": null,
      "min_width": null,
      "object_fit": null,
      "object_position": null,
      "order": null,
      "overflow": null,
      "overflow_x": null,
      "overflow_y": null,
      "padding": null,
      "right": null,
      "top": null,
      "visibility": null,
      "width": null
     }
    },
    "d5500d5dcd194a2c947db5efa18bb0ef": {
     "model_module": "@jupyter-widgets/base",
     "model_name": "LayoutModel",
     "state": {
      "_model_module": "@jupyter-widgets/base",
      "_model_module_version": "1.2.0",
      "_model_name": "LayoutModel",
      "_view_count": null,
      "_view_module": "@jupyter-widgets/base",
      "_view_module_version": "1.2.0",
      "_view_name": "LayoutView",
      "align_content": null,
      "align_items": null,
      "align_self": null,
      "border": null,
      "bottom": null,
      "display": null,
      "flex": null,
      "flex_flow": null,
      "grid_area": null,
      "grid_auto_columns": null,
      "grid_auto_flow": null,
      "grid_auto_rows": null,
      "grid_column": null,
      "grid_gap": null,
      "grid_row": null,
      "grid_template_areas": null,
      "grid_template_columns": null,
      "grid_template_rows": null,
      "height": null,
      "justify_content": null,
      "justify_items": null,
      "left": null,
      "margin": null,
      "max_height": null,
      "max_width": null,
      "min_height": null,
      "min_width": null,
      "object_fit": null,
      "object_position": null,
      "order": null,
      "overflow": null,
      "overflow_x": null,
      "overflow_y": null,
      "padding": null,
      "right": null,
      "top": null,
      "visibility": null,
      "width": null
     }
    },
    "ddcf03869d604543b3c7eaf397357e57": {
     "model_module": "@jupyter-widgets/controls",
     "model_name": "ProgressStyleModel",
     "state": {
      "_model_module": "@jupyter-widgets/controls",
      "_model_module_version": "1.5.0",
      "_model_name": "ProgressStyleModel",
      "_view_count": null,
      "_view_module": "@jupyter-widgets/base",
      "_view_module_version": "1.2.0",
      "_view_name": "StyleView",
      "bar_color": null,
      "description_width": ""
     }
    },
    "e243292f197f477a95aeb086ef33e290": {
     "model_module": "@jupyter-widgets/base",
     "model_name": "LayoutModel",
     "state": {
      "_model_module": "@jupyter-widgets/base",
      "_model_module_version": "1.2.0",
      "_model_name": "LayoutModel",
      "_view_count": null,
      "_view_module": "@jupyter-widgets/base",
      "_view_module_version": "1.2.0",
      "_view_name": "LayoutView",
      "align_content": null,
      "align_items": null,
      "align_self": null,
      "border": null,
      "bottom": null,
      "display": null,
      "flex": null,
      "flex_flow": null,
      "grid_area": null,
      "grid_auto_columns": null,
      "grid_auto_flow": null,
      "grid_auto_rows": null,
      "grid_column": null,
      "grid_gap": null,
      "grid_row": null,
      "grid_template_areas": null,
      "grid_template_columns": null,
      "grid_template_rows": null,
      "height": null,
      "justify_content": null,
      "justify_items": null,
      "left": null,
      "margin": null,
      "max_height": null,
      "max_width": null,
      "min_height": null,
      "min_width": null,
      "object_fit": null,
      "object_position": null,
      "order": null,
      "overflow": null,
      "overflow_x": null,
      "overflow_y": null,
      "padding": null,
      "right": null,
      "top": null,
      "visibility": null,
      "width": null
     }
    },
    "e4395d04489f4e73b2ab39ddd9aba534": {
     "model_module": "@jupyter-widgets/base",
     "model_name": "LayoutModel",
     "state": {
      "_model_module": "@jupyter-widgets/base",
      "_model_module_version": "1.2.0",
      "_model_name": "LayoutModel",
      "_view_count": null,
      "_view_module": "@jupyter-widgets/base",
      "_view_module_version": "1.2.0",
      "_view_name": "LayoutView",
      "align_content": null,
      "align_items": null,
      "align_self": null,
      "border": null,
      "bottom": null,
      "display": null,
      "flex": null,
      "flex_flow": null,
      "grid_area": null,
      "grid_auto_columns": null,
      "grid_auto_flow": null,
      "grid_auto_rows": null,
      "grid_column": null,
      "grid_gap": null,
      "grid_row": null,
      "grid_template_areas": null,
      "grid_template_columns": null,
      "grid_template_rows": null,
      "height": null,
      "justify_content": null,
      "justify_items": null,
      "left": null,
      "margin": null,
      "max_height": null,
      "max_width": null,
      "min_height": null,
      "min_width": null,
      "object_fit": null,
      "object_position": null,
      "order": null,
      "overflow": null,
      "overflow_x": null,
      "overflow_y": null,
      "padding": null,
      "right": null,
      "top": null,
      "visibility": null,
      "width": null
     }
    },
    "e831a877d814407da7fa981bd6a688f9": {
     "model_module": "@jupyter-widgets/controls",
     "model_name": "IntProgressModel",
     "state": {
      "_dom_classes": [],
      "_model_module": "@jupyter-widgets/controls",
      "_model_module_version": "1.5.0",
      "_model_name": "IntProgressModel",
      "_view_count": null,
      "_view_module": "@jupyter-widgets/controls",
      "_view_module_version": "1.5.0",
      "_view_name": "ProgressView",
      "bar_style": "success",
      "description": "",
      "description_tooltip": null,
      "layout": "IPY_MODEL_ee35d04ea6414a3aba62eece7700c195",
      "max": 1,
      "min": 0,
      "orientation": "horizontal",
      "style": "IPY_MODEL_8761e1df4524420688b537e2fbf2d567",
      "value": 1
     }
    },
    "e92bbc955ced4826a8d759f25eacaea0": {
     "model_module": "@jupyter-widgets/controls",
     "model_name": "DescriptionStyleModel",
     "state": {
      "_model_module": "@jupyter-widgets/controls",
      "_model_module_version": "1.5.0",
      "_model_name": "DescriptionStyleModel",
      "_view_count": null,
      "_view_module": "@jupyter-widgets/base",
      "_view_module_version": "1.2.0",
      "_view_name": "StyleView",
      "description_width": ""
     }
    },
    "ea47dac181cc476c8a1ce9aeec66f16b": {
     "model_module": "@jupyter-widgets/base",
     "model_name": "LayoutModel",
     "state": {
      "_model_module": "@jupyter-widgets/base",
      "_model_module_version": "1.2.0",
      "_model_name": "LayoutModel",
      "_view_count": null,
      "_view_module": "@jupyter-widgets/base",
      "_view_module_version": "1.2.0",
      "_view_name": "LayoutView",
      "align_content": null,
      "align_items": null,
      "align_self": null,
      "border": null,
      "bottom": null,
      "display": null,
      "flex": null,
      "flex_flow": null,
      "grid_area": null,
      "grid_auto_columns": null,
      "grid_auto_flow": null,
      "grid_auto_rows": null,
      "grid_column": null,
      "grid_gap": null,
      "grid_row": null,
      "grid_template_areas": null,
      "grid_template_columns": null,
      "grid_template_rows": null,
      "height": null,
      "justify_content": null,
      "justify_items": null,
      "left": null,
      "margin": null,
      "max_height": null,
      "max_width": null,
      "min_height": null,
      "min_width": null,
      "object_fit": null,
      "object_position": null,
      "order": null,
      "overflow": null,
      "overflow_x": null,
      "overflow_y": null,
      "padding": null,
      "right": null,
      "top": null,
      "visibility": null,
      "width": null
     }
    },
    "ebeb8181f9c54c389cbffe5e2b759588": {
     "model_module": "@jupyter-widgets/controls",
     "model_name": "HBoxModel",
     "state": {
      "_dom_classes": [],
      "_model_module": "@jupyter-widgets/controls",
      "_model_module_version": "1.5.0",
      "_model_name": "HBoxModel",
      "_view_count": null,
      "_view_module": "@jupyter-widgets/controls",
      "_view_module_version": "1.5.0",
      "_view_name": "HBoxView",
      "box_style": "",
      "children": [
       "IPY_MODEL_e831a877d814407da7fa981bd6a688f9",
       "IPY_MODEL_f3c314e9420e4954a7e1c2129591eace"
      ],
      "layout": "IPY_MODEL_ea47dac181cc476c8a1ce9aeec66f16b"
     }
    },
    "ee35d04ea6414a3aba62eece7700c195": {
     "model_module": "@jupyter-widgets/base",
     "model_name": "LayoutModel",
     "state": {
      "_model_module": "@jupyter-widgets/base",
      "_model_module_version": "1.2.0",
      "_model_name": "LayoutModel",
      "_view_count": null,
      "_view_module": "@jupyter-widgets/base",
      "_view_module_version": "1.2.0",
      "_view_name": "LayoutView",
      "align_content": null,
      "align_items": null,
      "align_self": null,
      "border": null,
      "bottom": null,
      "display": null,
      "flex": null,
      "flex_flow": null,
      "grid_area": null,
      "grid_auto_columns": null,
      "grid_auto_flow": null,
      "grid_auto_rows": null,
      "grid_column": null,
      "grid_gap": null,
      "grid_row": null,
      "grid_template_areas": null,
      "grid_template_columns": null,
      "grid_template_rows": null,
      "height": null,
      "justify_content": null,
      "justify_items": null,
      "left": null,
      "margin": null,
      "max_height": null,
      "max_width": null,
      "min_height": null,
      "min_width": null,
      "object_fit": null,
      "object_position": null,
      "order": null,
      "overflow": null,
      "overflow_x": null,
      "overflow_y": null,
      "padding": null,
      "right": null,
      "top": null,
      "visibility": null,
      "width": null
     }
    },
    "f3c314e9420e4954a7e1c2129591eace": {
     "model_module": "@jupyter-widgets/controls",
     "model_name": "HTMLModel",
     "state": {
      "_dom_classes": [],
      "_model_module": "@jupyter-widgets/controls",
      "_model_module_version": "1.5.0",
      "_model_name": "HTMLModel",
      "_view_count": null,
      "_view_module": "@jupyter-widgets/controls",
      "_view_module_version": "1.5.0",
      "_view_name": "HTMLView",
      "description": "",
      "description_tooltip": null,
      "layout": "IPY_MODEL_863b3eb3d2d6457480cb04d3ae3ff6dd",
      "placeholder": "​",
      "style": "IPY_MODEL_a105799b12eb4f8e922659948523f759",
      "value": "26427392it [00:00, 72080679.72it/s]"
     }
    }
   }
  }
 },
 "nbformat": 4,
 "nbformat_minor": 1
}
